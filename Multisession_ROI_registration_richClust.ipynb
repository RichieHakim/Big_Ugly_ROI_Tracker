{
 "cells": [
  {
   "cell_type": "markdown",
   "id": "e7866666",
   "metadata": {},
   "source": [
    "TODO: \n",
    "\n",
    "add some plotting\n",
    "\n",
    "add way to determine clustering linkage distances\n",
    "\n",
    "clean up later modules\n",
    "\n",
    "put cluster selection into module\n",
    "\n",
    "make cluster selection work with sparse inputs\n",
    "\n",
    "chase down memory usage in cluster selection"
   ]
  },
  {
   "cell_type": "markdown",
   "id": "50622a4e",
   "metadata": {},
   "source": [
    "# Setup"
   ]
  },
  {
   "cell_type": "code",
   "execution_count": 1,
   "id": "92846ae4",
   "metadata": {},
   "outputs": [
    {
     "data": {
      "text/html": [
       "<style>.container {width:95% !important; }</style>"
      ],
      "text/plain": [
       "<IPython.core.display.HTML object>"
      ]
     },
     "metadata": {},
     "output_type": "display_data"
    },
    {
     "name": "stdout",
     "output_type": "stream",
     "text": [
      "Conda Environment: rich_clust\n",
      "python version: 3.9.12\n"
     ]
    }
   ],
   "source": [
    "# widen jupyter notebook window\n",
    "from IPython.display import display, HTML\n",
    "display(HTML(\"<style>.container {width:95% !important; }</style>\"))\n",
    "\n",
    "# check environment\n",
    "import os\n",
    "print(f'Conda Environment: ' + os.environ['CONDA_DEFAULT_ENV'])\n",
    "\n",
    "from platform import python_version\n",
    "print(f'python version: {python_version()}')"
   ]
  },
  {
   "cell_type": "code",
   "execution_count": 2,
   "id": "c4eb1fa5",
   "metadata": {},
   "outputs": [],
   "source": [
    "import os\n",
    "from pathlib import Path\n",
    "\n",
    "import matplotlib.pyplot as plt\n",
    "import numpy as np\n",
    "import natsort\n",
    "\n",
    "import torch\n",
    "# from kymatio.torch import Scattering2D\n",
    "\n",
    "import gc\n",
    "import time\n",
    "import functools\n",
    "import multiprocessing as mp\n"
   ]
  },
  {
   "cell_type": "code",
   "execution_count": 3,
   "id": "17739d15",
   "metadata": {},
   "outputs": [],
   "source": [
    "dir_save = '/home/rich/Desktop/'"
   ]
  },
  {
   "cell_type": "code",
   "execution_count": 4,
   "id": "ff999e19",
   "metadata": {},
   "outputs": [],
   "source": [
    "params = {\n",
    "    'paths': {\n",
    "        'dir_github': r'/media/rich/Home_Linux_partition/github_repos/',\n",
    "        'dir_allOuterFolders': r\"/media/rich/bigSSD/other lab data/Harnett_lab/ROI_Tracking/Vincent_Valerio/4th_email/AllStatFiles/rbp16\",\n",
    "        'pathSuffixToStat': 'plane0/stat.npy',\n",
    "        'pathSuffixToOps': 'plane0/ops.npy',\n",
    "    },\n",
    "    'prefs': {\n",
    "        # 'pref_use_NN_distances': True,\n",
    "        'use_GPU': True,\n",
    "        # 'pref_blurROIs': True,\n",
    "    },    \n",
    "    'importing': {\n",
    "        'data_verbose': True,\n",
    "        'out_height_width': [36, 36],\n",
    "        'max_footprint_width': 1025,\n",
    "        'type_meanImg': 'meanImgE',\n",
    "        'images': None,\n",
    "        'import_workers': -1,\n",
    "    },\n",
    "    'alignment': {\n",
    "        'method': 'createOptFlow_DeepFlow',\n",
    "        'kwargs_method': None,\n",
    "        'return_sparse': True,\n",
    "        'normalize': True,\n",
    "    },\n",
    "    'blurring': {\n",
    "        'kernel_halfWidth': 2.0,\n",
    "        'device': 'cpu',\n",
    "        'plot_kernel': False,\n",
    "        'batch_size': 2000,\n",
    "    },\n",
    "    'ROInet': {\n",
    "        'device': 'cuda:0',\n",
    "        'dir_networkFiles': '/home/rich/Downloads/ROInet',\n",
    "        'download_from_gDrive': 'check_local_first',\n",
    "        'gDriveID': '1FCcPZUuOR7xG-hdO6Ei6mx8YnKysVsa8',\n",
    "        'verbose': True,\n",
    "        'goal_size': 250,\n",
    "        'ptile_norm': 90,\n",
    "        'scale_norm': 0.6,\n",
    "        'pref_plot': False,\n",
    "        'batchSize_dataloader': 8,\n",
    "        'pinMemory_dataloader': True,\n",
    "        'persistentWorkers_dataloader': True,\n",
    "        'prefetchFactor_dataloader': 2,\n",
    "    },\n",
    "    'SWT': {\n",
    "        'kwargs_Scattering2D': {'J': 2, 'L': 8},\n",
    "        'image_shape': (36, 36),\n",
    "        'device': 'cuda:0',\n",
    "    }, \n",
    "    'similarity': {\n",
    "        'device': 'cpu',\n",
    "        'n_workers': -1,\n",
    "        'spatialFootprint_maskPower': 0.8,\n",
    "        'block_height': 50,\n",
    "        'block_width': 50,\n",
    "        'overlapping_width_Multiplier': 0.1,\n",
    "        'algorithm_nearestNeigbors_spatialFootprints': 'brute',\n",
    "        'n_neighbors_nearestNeighbors_spatialFootprints': 'full',\n",
    "        'locality': 1,\n",
    "        'verbose': True,\n",
    "    },\n",
    "    'similarity_compute': {\n",
    "        'linkage_methods': ['single', 'complete', 'ward', 'average'],\n",
    "        # 'linkage_distances': math_functions.bounded_logspace(0.05, 2, 50),\n",
    "        'min_cluster_size': 2,\n",
    "        'max_cluster_size': None,\n",
    "        'batch_size_hashing': 100,\n",
    "        'cluster_similarity_reduction_intra': 'mean',\n",
    "        'cluster_similarity_reduction_inter': 'max',\n",
    "        'cluster_silhouette_reduction_intra': 'mean',\n",
    "        'cluster_silhouette_reduction_inter': 'max',\n",
    "        'n_workers': 24,\n",
    "        'power_clusterSize': 2,\n",
    "        'power_clusterSilhouette': 1.5,\n",
    "    },\n",
    "    'clusterAssigner': {\n",
    "        'device': 'cuda:0',\n",
    "        'optimizer_partial_lr': 1e-1,\n",
    "        'optimizer_partial_betas': (0.9, 0.900),\n",
    "        'scheduler_partial_base_lr': 1e-3,\n",
    "        'scheduler_partial_max_lr': 3e0,\n",
    "        'scheduler_partial_step_size_up': 250,\n",
    "        'scheduler_partial_cycle_momentum': False,\n",
    "        'scheduler_partial_verbose': False,\n",
    "        'dmCEL_temp': 1,\n",
    "        'dmCEL_sigSlope': 2,\n",
    "        'dmCEL_sigCenter': 0.5,\n",
    "        'dmCEL_penalty': 1e0,\n",
    "        'sampleWeight_softplusKwargs': {'beta': 150, 'threshold': 50},\n",
    "        'sampleWeight_penalty': 1e3,\n",
    "        'fracWeighted_goalFrac': 1.0,\n",
    "        'fracWeighted_sigSlope': 2,\n",
    "        'fracWeighted_sigCenter': 0.5,\n",
    "        'fracWeight_penalty': 1e2,\n",
    "        'maskL1_penalty': 2e-4,\n",
    "        'tol_convergence': 1e-9,\n",
    "        'window_convergence': 50,\n",
    "        'freqCheck_convergence': 50,\n",
    "        'verbose': True,       \n",
    "    },\n",
    "    'clusterAssigner_fit': {\n",
    "        'min_iter': 1e3,\n",
    "        'max_iter': 5e3,\n",
    "        'verbose': True,\n",
    "        'verbose_interval': 100,\n",
    "        'm_threshold': 0.8,\n",
    "    },\n",
    "    'visualization': {\n",
    "        'FOV_threshold_confidence': 0.5,\n",
    "    }\n",
    "}"
   ]
  },
  {
   "cell_type": "code",
   "execution_count": 5,
   "id": "21ddca3c",
   "metadata": {},
   "outputs": [],
   "source": [
    "dir_github = Path(params['paths']['dir_github']).resolve()\n",
    "\n",
    "import sys\n",
    "sys.path.append(str(dir_github))\n",
    "\n",
    "%load_ext autoreload\n",
    "%autoreload 2\n",
    "# from basic_neural_processing_modules import path_helpers, torch_helpers, featurization, indexing, misc, torch_helpers, plotting_helpers, classification, math_functions, parallel_helpers, clustering, image_processing, pickle_helpers, container_helpers\n",
    "# from Big_Ugly_ROI_Tracker.multiEps.multiEps_modules import *\n",
    "from registration_rClust import data_importing, visualization, alignment, blurring, helpers, ROInet, scatteringWaveletTransformer, similarity_graph, cluster_assignment\n"
   ]
  },
  {
   "cell_type": "code",
   "execution_count": 6,
   "id": "a73440af",
   "metadata": {},
   "outputs": [],
   "source": [
    "# params_all = [helpers.deep_update_dict(params, ['paths', 'dir_allOuterFolders'], val) for val in [\n",
    "#         r\"/media/rich/bigSSD/other lab data/Harnett_lab/ROI_Tracking/Vincent_Valerio/4th_email/AllStatFiles/rbp6_3\",\n",
    "#         r\"/media/rich/bigSSD/other lab data/Harnett_lab/ROI_Tracking/Vincent_Valerio/4th_email/AllStatFiles/rbp10\",\n",
    "#         r\"/media/rich/bigSSD/other lab data/Harnett_lab/ROI_Tracking/Vincent_Valerio/4th_email/AllStatFiles/rbp11\",\n",
    "#         r\"/media/rich/bigSSD/other lab data/Harnett_lab/ROI_Tracking/Vincent_Valerio/4th_email/AllStatFiles/rbp12\",\n",
    "#         r\"/media/rich/bigSSD/other lab data/Harnett_lab/ROI_Tracking/Vincent_Valerio/4th_email/AllStatFiles/rbp13\",\n",
    "#         r\"/media/rich/bigSSD/other lab data/Harnett_lab/ROI_Tracking/Vincent_Valerio/4th_email/AllStatFiles/rbp16\",\n",
    "# ]]"
   ]
  },
  {
   "cell_type": "code",
   "execution_count": 7,
   "id": "5f054c7c",
   "metadata": {},
   "outputs": [
    {
     "name": "stdout",
     "output_type": "stream",
     "text": [
      "devices available: [_CudaDeviceProperties(name='NVIDIA GeForce RTX 3090', major=8, minor=6, total_memory=24234MB, multi_processor_count=82)]\n",
      "Using device: 'cuda:0': _CudaDeviceProperties(name='NVIDIA GeForce RTX 3090', major=8, minor=6, total_memory=24234MB, multi_processor_count=82)\n",
      "['D1', 'D2', 'D3', 'D4', 'D5', 'D6', 'D7', 'D8', 'D9', 'D10', 'D11', 'D12', 'D13', 'D14']\n",
      "['D1', 'D2', 'D3', 'D4', 'D5', 'D6', 'D7', 'D8', 'D9', 'D10', 'D11', 'D12', 'D13', 'D14']\n",
      "/media/rich/bigSSD/other lab data/Harnett_lab/ROI_Tracking/Vincent_Valerio/4th_email/AllStatFiles/rbp16/D1\n",
      "/media/rich/bigSSD/other lab data/Harnett_lab/ROI_Tracking/Vincent_Valerio/4th_email/AllStatFiles/rbp16/D2\n",
      "/media/rich/bigSSD/other lab data/Harnett_lab/ROI_Tracking/Vincent_Valerio/4th_email/AllStatFiles/rbp16/D3\n",
      "/media/rich/bigSSD/other lab data/Harnett_lab/ROI_Tracking/Vincent_Valerio/4th_email/AllStatFiles/rbp16/D4\n",
      "/media/rich/bigSSD/other lab data/Harnett_lab/ROI_Tracking/Vincent_Valerio/4th_email/AllStatFiles/rbp16/D5\n",
      "/media/rich/bigSSD/other lab data/Harnett_lab/ROI_Tracking/Vincent_Valerio/4th_email/AllStatFiles/rbp16/D6\n",
      "/media/rich/bigSSD/other lab data/Harnett_lab/ROI_Tracking/Vincent_Valerio/4th_email/AllStatFiles/rbp16/D7\n",
      "/media/rich/bigSSD/other lab data/Harnett_lab/ROI_Tracking/Vincent_Valerio/4th_email/AllStatFiles/rbp16/D8\n",
      "/media/rich/bigSSD/other lab data/Harnett_lab/ROI_Tracking/Vincent_Valerio/4th_email/AllStatFiles/rbp16/D9\n",
      "/media/rich/bigSSD/other lab data/Harnett_lab/ROI_Tracking/Vincent_Valerio/4th_email/AllStatFiles/rbp16/D10\n",
      "/media/rich/bigSSD/other lab data/Harnett_lab/ROI_Tracking/Vincent_Valerio/4th_email/AllStatFiles/rbp16/D11\n",
      "/media/rich/bigSSD/other lab data/Harnett_lab/ROI_Tracking/Vincent_Valerio/4th_email/AllStatFiles/rbp16/D12\n",
      "/media/rich/bigSSD/other lab data/Harnett_lab/ROI_Tracking/Vincent_Valerio/4th_email/AllStatFiles/rbp16/D13\n",
      "/media/rich/bigSSD/other lab data/Harnett_lab/ROI_Tracking/Vincent_Valerio/4th_email/AllStatFiles/rbp16/D14\n",
      "/media/rich/bigSSD/other lab data/Harnett_lab/ROI_Tracking/Vincent_Valerio/4th_email/AllStatFiles/rbp16/D1/plane0/stat.npy\n",
      "/media/rich/bigSSD/other lab data/Harnett_lab/ROI_Tracking/Vincent_Valerio/4th_email/AllStatFiles/rbp16/D2/plane0/stat.npy\n",
      "/media/rich/bigSSD/other lab data/Harnett_lab/ROI_Tracking/Vincent_Valerio/4th_email/AllStatFiles/rbp16/D3/plane0/stat.npy\n",
      "/media/rich/bigSSD/other lab data/Harnett_lab/ROI_Tracking/Vincent_Valerio/4th_email/AllStatFiles/rbp16/D4/plane0/stat.npy\n",
      "/media/rich/bigSSD/other lab data/Harnett_lab/ROI_Tracking/Vincent_Valerio/4th_email/AllStatFiles/rbp16/D5/plane0/stat.npy\n",
      "/media/rich/bigSSD/other lab data/Harnett_lab/ROI_Tracking/Vincent_Valerio/4th_email/AllStatFiles/rbp16/D6/plane0/stat.npy\n",
      "/media/rich/bigSSD/other lab data/Harnett_lab/ROI_Tracking/Vincent_Valerio/4th_email/AllStatFiles/rbp16/D7/plane0/stat.npy\n",
      "/media/rich/bigSSD/other lab data/Harnett_lab/ROI_Tracking/Vincent_Valerio/4th_email/AllStatFiles/rbp16/D8/plane0/stat.npy\n",
      "/media/rich/bigSSD/other lab data/Harnett_lab/ROI_Tracking/Vincent_Valerio/4th_email/AllStatFiles/rbp16/D9/plane0/stat.npy\n",
      "/media/rich/bigSSD/other lab data/Harnett_lab/ROI_Tracking/Vincent_Valerio/4th_email/AllStatFiles/rbp16/D10/plane0/stat.npy\n",
      "/media/rich/bigSSD/other lab data/Harnett_lab/ROI_Tracking/Vincent_Valerio/4th_email/AllStatFiles/rbp16/D11/plane0/stat.npy\n",
      "/media/rich/bigSSD/other lab data/Harnett_lab/ROI_Tracking/Vincent_Valerio/4th_email/AllStatFiles/rbp16/D12/plane0/stat.npy\n",
      "/media/rich/bigSSD/other lab data/Harnett_lab/ROI_Tracking/Vincent_Valerio/4th_email/AllStatFiles/rbp16/D13/plane0/stat.npy\n",
      "/media/rich/bigSSD/other lab data/Harnett_lab/ROI_Tracking/Vincent_Valerio/4th_email/AllStatFiles/rbp16/D14/plane0/stat.npy\n",
      "Starting: Importing spatial footprints from stat files\n",
      "Completed: Imported 14 stat files into class as self.statFiles. Total number of ROIs: 51169. Number of ROI from each file: [3047, 2847, 2779, 4324, 4264, 3369, 3514, 3620, 4375, 3768, 4829, 2994, 3439, 4000]\n"
     ]
    },
    {
     "name": "stderr",
     "output_type": "stream",
     "text": [
      "100%|███████████████████████████████████████████| 14/14 [00:02<00:00,  6.61it/s]\n"
     ]
    },
    {
     "name": "stdout",
     "output_type": "stream",
     "text": [
      "Converted 14 spatial footprint files into small centered images in self.ROI_images.\n",
      "Imported 14 FOV images into class as self.FOV_images\n",
      "Imported 14 sessions of spatial footprints into sparse arrays.\n"
     ]
    },
    {
     "name": "stderr",
     "output_type": "stream",
     "text": [
      "100%|███████████████████████████████████████████| 14/14 [04:09<00:00, 17.80s/it]\n"
     ]
    },
    {
     "name": "stdout",
     "output_type": "stream",
     "text": [
      "Successful hash comparison. Found matching files: {'params': '/home/rich/Downloads/ROInet/params.json', 'model': '/home/rich/Downloads/ROInet/model.py', 'state_dict': '/home/rich/Downloads/ROInet/ConvNext_tiny__1_0_unfrozen__simCLR.pth'}\n",
      "Imported model from /home/rich/Downloads/ROInet/model.py\n",
      "Loaded params_model from /home/rich/Downloads/ROInet/params.json\n"
     ]
    },
    {
     "name": "stderr",
     "output_type": "stream",
     "text": [
      "/media/rich/OS/Users/Richard/Linux_stuff_on_OS/conda_envs/envs/rich_clust/lib/python3.9/site-packages/torchvision/models/_utils.py:208: UserWarning: The parameter 'pretrained' is deprecated since 0.13 and will be removed in 0.15, please use 'weights' instead.\n",
      "  warnings.warn(\n",
      "/media/rich/OS/Users/Richard/Linux_stuff_on_OS/conda_envs/envs/rich_clust/lib/python3.9/site-packages/torchvision/models/_utils.py:223: UserWarning: Arguments other than a weight enum or `None` for 'weights' are deprecated since 0.13 and will be removed in 0.15. The current behavior is equivalent to passing `weights=ConvNeXt_Tiny_Weights.IMAGENET1K_V1`. You can also use `weights=ConvNeXt_Tiny_Weights.DEFAULT` to get the most up-to-date weights.\n",
      "  warnings.warn(msg)\n"
     ]
    },
    {
     "name": "stdout",
     "output_type": "stream",
     "text": [
      "Generated network using params_model\n",
      "Loaded state_dict into network from /home/rich/Downloads/ROInet/ConvNext_tiny__1_0_unfrozen__simCLR.pth\n",
      "Loaded network onto device cuda:0\n",
      "Starting: resizing ROIs\n"
     ]
    },
    {
     "name": "stderr",
     "output_type": "stream",
     "text": [
      "100%|███████████████████████████████████████████| 14/14 [00:00<00:00, 17.65it/s]\n",
      "100%|███████████████████████████████████████████| 14/14 [00:06<00:00,  2.26it/s]\n"
     ]
    },
    {
     "name": "stdout",
     "output_type": "stream",
     "text": [
      "Completed: resizing ROIs\n",
      "Defined image transformations: Sequential(\n",
      "  (0): ScaleDynamicRange(scaler_bounds=(0, 1))\n",
      "  (1): Resize(size=(224, 224), interpolation=bilinear, max_size=None, antialias=None)\n",
      "  (2): TileChannels(dim=0)\n",
      ")\n",
      "Defined dataset\n",
      "Defined dataloader\n",
      "starting: running data through network\n"
     ]
    },
    {
     "name": "stderr",
     "output_type": "stream",
     "text": [
      "  0%|                                                  | 0/6397 [00:00<?, ?it/s]/media/rich/OS/Users/Richard/Linux_stuff_on_OS/conda_envs/envs/rich_clust/lib/python3.9/site-packages/torch/nn/modules/module.py:1130: UserWarning: operator() profile_node %253 : int = prim::profile_ivalue(%out_dtype.1)\n",
      " does not have profile information (Triggered internally at  ../torch/csrc/jit/codegen/cuda/graph_fuser.cpp:104.)\n",
      "  return forward_call(*input, **kwargs)\n",
      "/media/rich/OS/Users/Richard/Linux_stuff_on_OS/conda_envs/envs/rich_clust/lib/python3.9/site-packages/torch/nn/modules/module.py:1130: UserWarning: operator() profile_node %253 : int = prim::profile_ivalue(%out_dtype.1)\n",
      " does not have profile information (Triggered internally at  ../torch/csrc/jit/codegen/cuda/graph_fuser.cpp:104.)\n",
      "  return forward_call(*input, **kwargs)\n",
      "/media/rich/OS/Users/Richard/Linux_stuff_on_OS/conda_envs/envs/rich_clust/lib/python3.9/site-packages/torch/nn/modules/module.py:1130: UserWarning: operator() profile_node %253 : int = prim::profile_ivalue(%out_dtype.1)\n",
      " does not have profile information (Triggered internally at  ../torch/csrc/jit/codegen/cuda/graph_fuser.cpp:104.)\n",
      "  return forward_call(*input, **kwargs)\n",
      "/media/rich/OS/Users/Richard/Linux_stuff_on_OS/conda_envs/envs/rich_clust/lib/python3.9/site-packages/torch/nn/modules/module.py:1130: UserWarning: operator() profile_node %253 : int = prim::profile_ivalue(%out_dtype.1)\n",
      " does not have profile information (Triggered internally at  ../torch/csrc/jit/codegen/cuda/graph_fuser.cpp:104.)\n",
      "  return forward_call(*input, **kwargs)\n",
      "/media/rich/OS/Users/Richard/Linux_stuff_on_OS/conda_envs/envs/rich_clust/lib/python3.9/site-packages/torch/nn/modules/module.py:1130: UserWarning: operator() profile_node %253 : int = prim::profile_ivalue(%out_dtype.1)\n",
      " does not have profile information (Triggered internally at  ../torch/csrc/jit/codegen/cuda/graph_fuser.cpp:104.)\n",
      "  return forward_call(*input, **kwargs)\n",
      "/media/rich/OS/Users/Richard/Linux_stuff_on_OS/conda_envs/envs/rich_clust/lib/python3.9/site-packages/torch/nn/modules/module.py:1130: UserWarning: operator() profile_node %253 : int = prim::profile_ivalue(%out_dtype.1)\n",
      " does not have profile information (Triggered internally at  ../torch/csrc/jit/codegen/cuda/graph_fuser.cpp:104.)\n",
      "  return forward_call(*input, **kwargs)\n",
      "/media/rich/OS/Users/Richard/Linux_stuff_on_OS/conda_envs/envs/rich_clust/lib/python3.9/site-packages/torch/nn/modules/module.py:1130: UserWarning: operator() profile_node %253 : int = prim::profile_ivalue(%out_dtype.1)\n",
      " does not have profile information (Triggered internally at  ../torch/csrc/jit/codegen/cuda/graph_fuser.cpp:104.)\n",
      "  return forward_call(*input, **kwargs)\n",
      "/media/rich/OS/Users/Richard/Linux_stuff_on_OS/conda_envs/envs/rich_clust/lib/python3.9/site-packages/torch/nn/modules/module.py:1130: UserWarning: operator() profile_node %253 : int = prim::profile_ivalue(%out_dtype.1)\n",
      " does not have profile information (Triggered internally at  ../torch/csrc/jit/codegen/cuda/graph_fuser.cpp:104.)\n",
      "  return forward_call(*input, **kwargs)\n",
      "/media/rich/OS/Users/Richard/Linux_stuff_on_OS/conda_envs/envs/rich_clust/lib/python3.9/site-packages/torch/nn/modules/module.py:1130: UserWarning: operator() profile_node %253 : int = prim::profile_ivalue(%out_dtype.1)\n",
      " does not have profile information (Triggered internally at  ../torch/csrc/jit/codegen/cuda/graph_fuser.cpp:104.)\n",
      "  return forward_call(*input, **kwargs)\n",
      "/media/rich/OS/Users/Richard/Linux_stuff_on_OS/conda_envs/envs/rich_clust/lib/python3.9/site-packages/torch/nn/modules/module.py:1130: UserWarning: operator() profile_node %253 : int = prim::profile_ivalue(%out_dtype.1)\n",
      " does not have profile information (Triggered internally at  ../torch/csrc/jit/codegen/cuda/graph_fuser.cpp:104.)\n",
      "  return forward_call(*input, **kwargs)\n",
      "/media/rich/OS/Users/Richard/Linux_stuff_on_OS/conda_envs/envs/rich_clust/lib/python3.9/site-packages/torch/nn/modules/module.py:1130: UserWarning: operator() profile_node %253 : int = prim::profile_ivalue(%out_dtype.1)\n",
      " does not have profile information (Triggered internally at  ../torch/csrc/jit/codegen/cuda/graph_fuser.cpp:104.)\n",
      "  return forward_call(*input, **kwargs)\n",
      "/media/rich/OS/Users/Richard/Linux_stuff_on_OS/conda_envs/envs/rich_clust/lib/python3.9/site-packages/torch/nn/modules/module.py:1130: UserWarning: operator() profile_node %253 : int = prim::profile_ivalue(%out_dtype.1)\n",
      " does not have profile information (Triggered internally at  ../torch/csrc/jit/codegen/cuda/graph_fuser.cpp:104.)\n",
      "  return forward_call(*input, **kwargs)\n",
      "/media/rich/OS/Users/Richard/Linux_stuff_on_OS/conda_envs/envs/rich_clust/lib/python3.9/site-packages/torch/nn/modules/module.py:1130: UserWarning: operator() profile_node %253 : int = prim::profile_ivalue(%out_dtype.1)\n",
      " does not have profile information (Triggered internally at  ../torch/csrc/jit/codegen/cuda/graph_fuser.cpp:104.)\n",
      "  return forward_call(*input, **kwargs)\n",
      "/media/rich/OS/Users/Richard/Linux_stuff_on_OS/conda_envs/envs/rich_clust/lib/python3.9/site-packages/torch/nn/modules/module.py:1130: UserWarning: operator() profile_node %253 : int = prim::profile_ivalue(%out_dtype.1)\n",
      " does not have profile information (Triggered internally at  ../torch/csrc/jit/codegen/cuda/graph_fuser.cpp:104.)\n",
      "  return forward_call(*input, **kwargs)\n",
      "/media/rich/OS/Users/Richard/Linux_stuff_on_OS/conda_envs/envs/rich_clust/lib/python3.9/site-packages/torch/nn/modules/module.py:1130: UserWarning: operator() profile_node %253 : int = prim::profile_ivalue(%out_dtype.1)\n",
      " does not have profile information (Triggered internally at  ../torch/csrc/jit/codegen/cuda/graph_fuser.cpp:104.)\n",
      "  return forward_call(*input, **kwargs)\n",
      "/media/rich/OS/Users/Richard/Linux_stuff_on_OS/conda_envs/envs/rich_clust/lib/python3.9/site-packages/torch/nn/modules/module.py:1130: UserWarning: operator() profile_node %253 : int = prim::profile_ivalue(%out_dtype.1)\n",
      " does not have profile information (Triggered internally at  ../torch/csrc/jit/codegen/cuda/graph_fuser.cpp:104.)\n",
      "  return forward_call(*input, **kwargs)\n",
      "/media/rich/OS/Users/Richard/Linux_stuff_on_OS/conda_envs/envs/rich_clust/lib/python3.9/site-packages/torch/nn/modules/module.py:1130: UserWarning: operator() profile_node %253 : int = prim::profile_ivalue(%out_dtype.1)\n",
      " does not have profile information (Triggered internally at  ../torch/csrc/jit/codegen/cuda/graph_fuser.cpp:104.)\n",
      "  return forward_call(*input, **kwargs)\n",
      "/media/rich/OS/Users/Richard/Linux_stuff_on_OS/conda_envs/envs/rich_clust/lib/python3.9/site-packages/torch/nn/modules/module.py:1130: UserWarning: operator() profile_node %253 : int = prim::profile_ivalue(%out_dtype.1)\n",
      " does not have profile information (Triggered internally at  ../torch/csrc/jit/codegen/cuda/graph_fuser.cpp:104.)\n",
      "  return forward_call(*input, **kwargs)\n",
      "/media/rich/OS/Users/Richard/Linux_stuff_on_OS/conda_envs/envs/rich_clust/lib/python3.9/site-packages/torch/nn/modules/module.py:1130: UserWarning: operator() profile_node %253 : int = prim::profile_ivalue(%out_dtype.1)\n",
      " does not have profile information (Triggered internally at  ../torch/csrc/jit/codegen/cuda/graph_fuser.cpp:104.)\n",
      "  return forward_call(*input, **kwargs)\n",
      "/media/rich/OS/Users/Richard/Linux_stuff_on_OS/conda_envs/envs/rich_clust/lib/python3.9/site-packages/torch/nn/modules/module.py:1130: UserWarning: operator() profile_node %253 : int = prim::profile_ivalue(%out_dtype.1)\n",
      " does not have profile information (Triggered internally at  ../torch/csrc/jit/codegen/cuda/graph_fuser.cpp:104.)\n",
      "  return forward_call(*input, **kwargs)\n",
      "/media/rich/OS/Users/Richard/Linux_stuff_on_OS/conda_envs/envs/rich_clust/lib/python3.9/site-packages/torch/nn/modules/module.py:1130: UserWarning: operator() profile_node %253 : int = prim::profile_ivalue(%out_dtype.1)\n",
      " does not have profile information (Triggered internally at  ../torch/csrc/jit/codegen/cuda/graph_fuser.cpp:104.)\n",
      "  return forward_call(*input, **kwargs)\n",
      "/media/rich/OS/Users/Richard/Linux_stuff_on_OS/conda_envs/envs/rich_clust/lib/python3.9/site-packages/torch/nn/modules/module.py:1130: UserWarning: operator() profile_node %253 : int = prim::profile_ivalue(%out_dtype.1)\n",
      " does not have profile information (Triggered internally at  ../torch/csrc/jit/codegen/cuda/graph_fuser.cpp:104.)\n",
      "  return forward_call(*input, **kwargs)\n"
     ]
    },
    {
     "name": "stderr",
     "output_type": "stream",
     "text": [
      "/media/rich/OS/Users/Richard/Linux_stuff_on_OS/conda_envs/envs/rich_clust/lib/python3.9/site-packages/torch/nn/modules/module.py:1130: UserWarning: operator() profile_node %253 : int = prim::profile_ivalue(%out_dtype.1)\n",
      " does not have profile information (Triggered internally at  ../torch/csrc/jit/codegen/cuda/graph_fuser.cpp:104.)\n",
      "  return forward_call(*input, **kwargs)\n",
      "/media/rich/OS/Users/Richard/Linux_stuff_on_OS/conda_envs/envs/rich_clust/lib/python3.9/site-packages/torch/nn/modules/module.py:1130: UserWarning: operator() profile_node %253 : int = prim::profile_ivalue(%out_dtype.1)\n",
      " does not have profile information (Triggered internally at  ../torch/csrc/jit/codegen/cuda/graph_fuser.cpp:104.)\n",
      "  return forward_call(*input, **kwargs)\n",
      "/media/rich/OS/Users/Richard/Linux_stuff_on_OS/conda_envs/envs/rich_clust/lib/python3.9/site-packages/torch/nn/modules/module.py:1130: UserWarning: operator() profile_node %253 : int = prim::profile_ivalue(%out_dtype.1)\n",
      " does not have profile information (Triggered internally at  ../torch/csrc/jit/codegen/cuda/graph_fuser.cpp:104.)\n",
      "  return forward_call(*input, **kwargs)\n",
      "/media/rich/OS/Users/Richard/Linux_stuff_on_OS/conda_envs/envs/rich_clust/lib/python3.9/site-packages/torch/nn/modules/module.py:1130: UserWarning: operator() profile_node %253 : int = prim::profile_ivalue(%out_dtype.1)\n",
      " does not have profile information (Triggered internally at  ../torch/csrc/jit/codegen/cuda/graph_fuser.cpp:104.)\n",
      "  return forward_call(*input, **kwargs)\n",
      "/media/rich/OS/Users/Richard/Linux_stuff_on_OS/conda_envs/envs/rich_clust/lib/python3.9/site-packages/torch/nn/modules/module.py:1130: UserWarning: operator() profile_node %253 : int = prim::profile_ivalue(%out_dtype.1)\n",
      " does not have profile information (Triggered internally at  ../torch/csrc/jit/codegen/cuda/graph_fuser.cpp:104.)\n",
      "  return forward_call(*input, **kwargs)\n",
      "/media/rich/OS/Users/Richard/Linux_stuff_on_OS/conda_envs/envs/rich_clust/lib/python3.9/site-packages/torch/nn/modules/module.py:1130: UserWarning: operator() profile_node %253 : int = prim::profile_ivalue(%out_dtype.1)\n",
      " does not have profile information (Triggered internally at  ../torch/csrc/jit/codegen/cuda/graph_fuser.cpp:104.)\n",
      "  return forward_call(*input, **kwargs)\n",
      "/media/rich/OS/Users/Richard/Linux_stuff_on_OS/conda_envs/envs/rich_clust/lib/python3.9/site-packages/torch/nn/modules/module.py:1130: UserWarning: operator() profile_node %253 : int = prim::profile_ivalue(%out_dtype.1)\n",
      " does not have profile information (Triggered internally at  ../torch/csrc/jit/codegen/cuda/graph_fuser.cpp:104.)\n",
      "  return forward_call(*input, **kwargs)\n",
      "/media/rich/OS/Users/Richard/Linux_stuff_on_OS/conda_envs/envs/rich_clust/lib/python3.9/site-packages/torch/nn/modules/module.py:1130: UserWarning: operator() profile_node %253 : int = prim::profile_ivalue(%out_dtype.1)\n",
      " does not have profile information (Triggered internally at  ../torch/csrc/jit/codegen/cuda/graph_fuser.cpp:104.)\n",
      "  return forward_call(*input, **kwargs)\n",
      "/media/rich/OS/Users/Richard/Linux_stuff_on_OS/conda_envs/envs/rich_clust/lib/python3.9/site-packages/torch/nn/modules/module.py:1130: UserWarning: operator() profile_node %253 : int = prim::profile_ivalue(%out_dtype.1)\n",
      " does not have profile information (Triggered internally at  ../torch/csrc/jit/codegen/cuda/graph_fuser.cpp:104.)\n",
      "  return forward_call(*input, **kwargs)\n",
      "/media/rich/OS/Users/Richard/Linux_stuff_on_OS/conda_envs/envs/rich_clust/lib/python3.9/site-packages/torch/nn/modules/module.py:1130: UserWarning: operator() profile_node %253 : int = prim::profile_ivalue(%out_dtype.1)\n",
      " does not have profile information (Triggered internally at  ../torch/csrc/jit/codegen/cuda/graph_fuser.cpp:104.)\n",
      "  return forward_call(*input, **kwargs)\n",
      "/media/rich/OS/Users/Richard/Linux_stuff_on_OS/conda_envs/envs/rich_clust/lib/python3.9/site-packages/torch/nn/modules/module.py:1130: UserWarning: operator() profile_node %253 : int = prim::profile_ivalue(%out_dtype.1)\n",
      " does not have profile information (Triggered internally at  ../torch/csrc/jit/codegen/cuda/graph_fuser.cpp:104.)\n",
      "  return forward_call(*input, **kwargs)\n",
      "/media/rich/OS/Users/Richard/Linux_stuff_on_OS/conda_envs/envs/rich_clust/lib/python3.9/site-packages/torch/nn/modules/module.py:1130: UserWarning: operator() profile_node %253 : int = prim::profile_ivalue(%out_dtype.1)\n",
      " does not have profile information (Triggered internally at  ../torch/csrc/jit/codegen/cuda/graph_fuser.cpp:104.)\n",
      "  return forward_call(*input, **kwargs)\n",
      "/media/rich/OS/Users/Richard/Linux_stuff_on_OS/conda_envs/envs/rich_clust/lib/python3.9/site-packages/torch/nn/modules/module.py:1130: UserWarning: operator() profile_node %253 : int = prim::profile_ivalue(%out_dtype.1)\n",
      " does not have profile information (Triggered internally at  ../torch/csrc/jit/codegen/cuda/graph_fuser.cpp:104.)\n",
      "  return forward_call(*input, **kwargs)\n",
      "/media/rich/OS/Users/Richard/Linux_stuff_on_OS/conda_envs/envs/rich_clust/lib/python3.9/site-packages/torch/nn/modules/module.py:1130: UserWarning: operator() profile_node %253 : int = prim::profile_ivalue(%out_dtype.1)\n",
      " does not have profile information (Triggered internally at  ../torch/csrc/jit/codegen/cuda/graph_fuser.cpp:104.)\n",
      "  return forward_call(*input, **kwargs)\n",
      "100%|███████████████████████████████████████| 6397/6397 [02:10<00:00, 49.01it/s]\n"
     ]
    },
    {
     "name": "stdout",
     "output_type": "stream",
     "text": [
      "completed: running data through network\n",
      "SWT initialized\n",
      "Starting: SWT transform on ROIs\n",
      "Completed: SWT transform on ROIs\n",
      "Computing pairwise similarity between ROIs...\n"
     ]
    },
    {
     "name": "stderr",
     "output_type": "stream",
     "text": [
      "100%|█████████████████████████████████████████| 192/192 [05:08<00:00,  1.61s/it]\n"
     ]
    },
    {
     "name": "stdout",
     "output_type": "stream",
     "text": [
      "Removing duplicate clusters...\n",
      "Starting: Making cluster spatial footprints\n",
      "Completed: Making cluster spatial footprints\n",
      "Starting: Computing cluster similarities\n"
     ]
    },
    {
     "name": "stderr",
     "output_type": "stream",
     "text": [
      "/media/rich/OS/Users/Richard/Linux_stuff_on_OS/conda_envs/envs/rich_clust/lib/python3.9/site-packages/sparse/_umath.py:541: RuntimeWarning: invalid value encountered in true_divide\n",
      "  fill_value_array = self.func(\n",
      "/media/rich/OS/Users/Richard/Linux_stuff_on_OS/conda_envs/envs/rich_clust/lib/python3.9/site-packages/sparse/_umath.py:647: RuntimeWarning: divide by zero encountered in true_divide\n",
      "  func_data = self.func(*func_args, dtype=self.dtype, **self.kwargs)\n"
     ]
    },
    {
     "name": "stdout",
     "output_type": "stream",
     "text": [
      "Completed: Computing cluster similarities\n",
      "Starting: Computing modified cluster silhouettes\n"
     ]
    },
    {
     "name": "stderr",
     "output_type": "stream",
     "text": [
      "100%|██████████████████████████████████| 102561/102561 [02:44<00:00, 623.51it/s]\n"
     ]
    },
    {
     "name": "stdout",
     "output_type": "stream",
     "text": [
      "Completed: Computing modified cluster silhouettes\n",
      "iter: 0:  loss_total: 53.5438  lr: 0.01300   loss_cs: 0.0987  loss_fracWeighted: 53.4440  loss_sampleWeight: 0.0000  loss_maskL1: 0.0011  diff_loss: nan  loss_smooth: nan\n",
      "iter: 100:  loss_total: 51.6417  lr: 1.21260   loss_cs: 0.0044  loss_fracWeighted: 51.4336  loss_sampleWeight: 0.0167  loss_maskL1: 0.1870  diff_loss: nan  loss_smooth: nan\n",
      "iter: 200:  loss_total: 50.2192  lr: 2.41220   loss_cs: 0.0035  loss_fracWeighted: 49.7361  loss_sampleWeight: 0.1319  loss_maskL1: 0.3478  diff_loss: nan  loss_smooth: nan\n",
      "iter: 300:  loss_total: 49.9301  lr: 2.38820   loss_cs: 0.0028  loss_fracWeighted: 49.5000  loss_sampleWeight: 0.0371  loss_maskL1: 0.3902  diff_loss: nan  loss_smooth: nan\n",
      "iter: 400:  loss_total: 49.9105  lr: 1.18860   loss_cs: 0.0029  loss_fracWeighted: 49.4764  loss_sampleWeight: 0.0371  loss_maskL1: 0.3940  diff_loss: nan  loss_smooth: nan\n",
      "iter: 500:  loss_total: 49.9007  lr: 0.01300   loss_cs: 0.0029  loss_fracWeighted: 49.4647  loss_sampleWeight: 0.0373  loss_maskL1: 0.3957  diff_loss: nan  loss_smooth: nan\n",
      "iter: 600:  loss_total: 49.8964  lr: 1.21260   loss_cs: 0.0030  loss_fracWeighted: 49.4596  loss_sampleWeight: 0.0372  loss_maskL1: 0.3966  diff_loss: nan  loss_smooth: nan\n",
      "iter: 700:  loss_total: 49.8936  lr: 2.41220   loss_cs: 0.0030  loss_fracWeighted: 49.4561  loss_sampleWeight: 0.0371  loss_maskL1: 0.3974  diff_loss: nan  loss_smooth: nan\n",
      "iter: 800:  loss_total: 49.8909  lr: 2.38820   loss_cs: 0.0030  loss_fracWeighted: 49.4528  loss_sampleWeight: 0.0369  loss_maskL1: 0.3983  diff_loss: nan  loss_smooth: nan\n",
      "iter: 900:  loss_total: 49.8898  lr: 1.18860   loss_cs: 0.0030  loss_fracWeighted: 49.4514  loss_sampleWeight: 0.0368  loss_maskL1: 0.3986  diff_loss: nan  loss_smooth: nan\n",
      "iter: 1000:  loss_total: 49.8897  lr: 0.01300   loss_cs: 0.0030  loss_fracWeighted: 49.4514  loss_sampleWeight: 0.0367  loss_maskL1: 0.3986  diff_loss: nan  loss_smooth: nan\n",
      "iter: 1100:  loss_total: 49.8897  lr: 1.21260   loss_cs: 0.0030  loss_fracWeighted: 49.4515  loss_sampleWeight: 0.0366  loss_maskL1: 0.3986  diff_loss: 0.0000  loss_smooth: 49.8897\n",
      "iter: 1200:  loss_total: 49.8897  lr: 2.41220   loss_cs: 0.0030  loss_fracWeighted: 49.4518  loss_sampleWeight: 0.0366  loss_maskL1: 0.3984  diff_loss: -0.0002  loss_smooth: 49.8899\n",
      "iter: 1300:  loss_total: 49.8896  lr: 2.38820   loss_cs: 0.0030  loss_fracWeighted: 49.4511  loss_sampleWeight: 0.0366  loss_maskL1: 0.3989  diff_loss: -0.0001  loss_smooth: 49.8896\n",
      "iter: 1400:  loss_total: 49.8873  lr: 1.18860   loss_cs: 0.0030  loss_fracWeighted: 49.4481  loss_sampleWeight: 0.0365  loss_maskL1: 0.3997  diff_loss: -0.0018  loss_smooth: 49.8881\n",
      "iter: 1500:  loss_total: 49.8873  lr: 0.01300   loss_cs: 0.0030  loss_fracWeighted: 49.4480  loss_sampleWeight: 0.0365  loss_maskL1: 0.3997  diff_loss: 0.0000  loss_smooth: 49.8873\n",
      "iter: 1600:  loss_total: 49.8869  lr: 1.21260   loss_cs: 0.0030  loss_fracWeighted: 49.4475  loss_sampleWeight: 0.0365  loss_maskL1: 0.3999  diff_loss: -0.0002  loss_smooth: 49.8872\n",
      "iter: 1700:  loss_total: 49.8867  lr: 2.41220   loss_cs: 0.0030  loss_fracWeighted: 49.4471  loss_sampleWeight: 0.0365  loss_maskL1: 0.4000  diff_loss: -0.0003  loss_smooth: 49.8869\n",
      "iter: 1800:  loss_total: 49.8867  lr: 2.38820   loss_cs: 0.0030  loss_fracWeighted: 49.4471  loss_sampleWeight: 0.0365  loss_maskL1: 0.4000  diff_loss: -0.0000  loss_smooth: 49.8867\n",
      "iter: 1900:  loss_total: 49.8863  lr: 1.18860   loss_cs: 0.0030  loss_fracWeighted: 49.4466  loss_sampleWeight: 0.0364  loss_maskL1: 0.4003  diff_loss: -0.0000  loss_smooth: 49.8863\n",
      "iter: 2000:  loss_total: 49.8845  lr: 0.01300   loss_cs: 0.0031  loss_fracWeighted: 49.4443  loss_sampleWeight: 0.0365  loss_maskL1: 0.4007  diff_loss: -0.0000  loss_smooth: 49.8845\n",
      "iter: 2100:  loss_total: 49.8839  lr: 1.21260   loss_cs: 0.0030  loss_fracWeighted: 49.4438  loss_sampleWeight: 0.0364  loss_maskL1: 0.4007  diff_loss: 0.0000  loss_smooth: 49.8839\n",
      "iter: 2200:  loss_total: 49.8839  lr: 2.41220   loss_cs: 0.0031  loss_fracWeighted: 49.4435  loss_sampleWeight: 0.0366  loss_maskL1: 0.4008  diff_loss: -0.0001  loss_smooth: 49.8839\n",
      "iter: 2300:  loss_total: 49.8827  lr: 2.38820   loss_cs: 0.0031  loss_fracWeighted: 49.4421  loss_sampleWeight: 0.0365  loss_maskL1: 0.4010  diff_loss: -0.0001  loss_smooth: 49.8827\n",
      "iter: 2400:  loss_total: 49.8823  lr: 1.18860   loss_cs: 0.0031  loss_fracWeighted: 49.4416  loss_sampleWeight: 0.0365  loss_maskL1: 0.4011  diff_loss: -0.0000  loss_smooth: 49.8823\n",
      "iter: 2500:  loss_total: 49.8823  lr: 0.01300   loss_cs: 0.0031  loss_fracWeighted: 49.4414  loss_sampleWeight: 0.0364  loss_maskL1: 0.4013  diff_loss: 0.0000  loss_smooth: 49.8823\n",
      "iter: 2600:  loss_total: 49.8809  lr: 1.21260   loss_cs: 0.0031  loss_fracWeighted: 49.4399  loss_sampleWeight: 0.0364  loss_maskL1: 0.4014  diff_loss: -0.0017  loss_smooth: 49.8818\n",
      "iter: 2700:  loss_total: 49.8810  lr: 2.41220   loss_cs: 0.0031  loss_fracWeighted: 49.4400  loss_sampleWeight: 0.0365  loss_maskL1: 0.4014  diff_loss: 0.0001  loss_smooth: 49.8809\n",
      "iter: 2800:  loss_total: 49.8796  lr: 2.38820   loss_cs: 0.0032  loss_fracWeighted: 49.4381  loss_sampleWeight: 0.0365  loss_maskL1: 0.4018  diff_loss: -0.0002  loss_smooth: 49.8797\n",
      "iter: 2900:  loss_total: 49.8796  lr: 1.18860   loss_cs: 0.0032  loss_fracWeighted: 49.4381  loss_sampleWeight: 0.0364  loss_maskL1: 0.4018  diff_loss: -0.0000  loss_smooth: 49.8796\n",
      "iter: 3000:  loss_total: 49.8795  lr: 0.01300   loss_cs: 0.0032  loss_fracWeighted: 49.4381  loss_sampleWeight: 0.0364  loss_maskL1: 0.4018  diff_loss: 0.0000  loss_smooth: 49.8795\n",
      "iter: 3100:  loss_total: 49.8795  lr: 1.21260   loss_cs: 0.0032  loss_fracWeighted: 49.4380  loss_sampleWeight: 0.0363  loss_maskL1: 0.4020  diff_loss: 0.0000  loss_smooth: 49.8795\n",
      "iter: 3200:  loss_total: 49.8796  lr: 2.41220   loss_cs: 0.0032  loss_fracWeighted: 49.4380  loss_sampleWeight: 0.0364  loss_maskL1: 0.4019  diff_loss: 0.0000  loss_smooth: 49.8796\n",
      "iter: 3300:  loss_total: 49.8786  lr: 2.38820   loss_cs: 0.0032  loss_fracWeighted: 49.4369  loss_sampleWeight: 0.0364  loss_maskL1: 0.4021  diff_loss: -0.0013  loss_smooth: 49.8791\n",
      "iter: 3400:  loss_total: 49.8786  lr: 1.18860   loss_cs: 0.0032  loss_fracWeighted: 49.4368  loss_sampleWeight: 0.0363  loss_maskL1: 0.4022  diff_loss: -0.0000  loss_smooth: 49.8786\n",
      "iter: 3500:  loss_total: 49.8785  lr: 0.01300   loss_cs: 0.0032  loss_fracWeighted: 49.4369  loss_sampleWeight: 0.0363  loss_maskL1: 0.4022  diff_loss: 0.0000  loss_smooth: 49.8785\n",
      "iter: 3600:  loss_total: 49.8785  lr: 1.21260   loss_cs: 0.0032  loss_fracWeighted: 49.4369  loss_sampleWeight: 0.0362  loss_maskL1: 0.4022  diff_loss: 0.0000  loss_smooth: 49.8785\n",
      "iter: 3700:  loss_total: 49.8786  lr: 2.41220   loss_cs: 0.0032  loss_fracWeighted: 49.4370  loss_sampleWeight: 0.0364  loss_maskL1: 0.4020  diff_loss: 0.0000  loss_smooth: 49.8786\n",
      "iter: 3800:  loss_total: 49.8782  lr: 2.38820   loss_cs: 0.0032  loss_fracWeighted: 49.4360  loss_sampleWeight: 0.0364  loss_maskL1: 0.4025  diff_loss: -0.0002  loss_smooth: 49.8783\n",
      "iter: 3900:  loss_total: 49.8781  lr: 1.18860   loss_cs: 0.0032  loss_fracWeighted: 49.4360  loss_sampleWeight: 0.0363  loss_maskL1: 0.4026  diff_loss: 0.0000  loss_smooth: 49.8781\n",
      "iter: 4000:  loss_total: 49.8781  lr: 0.01300   loss_cs: 0.0033  loss_fracWeighted: 49.4357  loss_sampleWeight: 0.0363  loss_maskL1: 0.4028  diff_loss: 0.0000  loss_smooth: 49.8781\n",
      "iter: 4100:  loss_total: 49.8781  lr: 1.21260   loss_cs: 0.0033  loss_fracWeighted: 49.4358  loss_sampleWeight: 0.0363  loss_maskL1: 0.4028  diff_loss: 0.0000  loss_smooth: 49.8781\n",
      "iter: 4200:  loss_total: 49.8782  lr: 2.41220   loss_cs: 0.0033  loss_fracWeighted: 49.4359  loss_sampleWeight: 0.0364  loss_maskL1: 0.4026  diff_loss: 0.0000  loss_smooth: 49.8781\n",
      "iter: 4300:  loss_total: 49.8781  lr: 2.38820   loss_cs: 0.0033  loss_fracWeighted: 49.4361  loss_sampleWeight: 0.0363  loss_maskL1: 0.4024  diff_loss: -0.0001  loss_smooth: 49.8782\n",
      "iter: 4400:  loss_total: 49.8757  lr: 1.18860   loss_cs: 0.0033  loss_fracWeighted: 49.4334  loss_sampleWeight: 0.0362  loss_maskL1: 0.4028  diff_loss: 0.0000  loss_smooth: 49.8757\n",
      "iter: 4500:  loss_total: 49.8757  lr: 0.01300   loss_cs: 0.0033  loss_fracWeighted: 49.4334  loss_sampleWeight: 0.0362  loss_maskL1: 0.4028  diff_loss: 0.0000  loss_smooth: 49.8757\n"
     ]
    },
    {
     "name": "stdout",
     "output_type": "stream",
     "text": [
      "iter: 4600:  loss_total: 49.8757  lr: 1.21260   loss_cs: 0.0033  loss_fracWeighted: 49.4335  loss_sampleWeight: 0.0362  loss_maskL1: 0.4028  diff_loss: 0.0000  loss_smooth: 49.8757\n",
      "iter: 4700:  loss_total: 49.8758  lr: 2.41220   loss_cs: 0.0033  loss_fracWeighted: 49.4335  loss_sampleWeight: 0.0363  loss_maskL1: 0.4027  diff_loss: 0.0001  loss_smooth: 49.8757\n",
      "iter: 4800:  loss_total: 49.8757  lr: 2.38820   loss_cs: 0.0033  loss_fracWeighted: 49.4332  loss_sampleWeight: 0.0363  loss_maskL1: 0.4028  diff_loss: -0.0001  loss_smooth: 49.8757\n",
      "iter: 4900:  loss_total: 49.8756  lr: 1.18860   loss_cs: 0.0033  loss_fracWeighted: 49.4332  loss_sampleWeight: 0.0362  loss_maskL1: 0.4030  diff_loss: -0.0000  loss_smooth: 49.8756\n",
      "iter: 5000:  loss_total: 49.8756  lr: 0.01300   loss_cs: 0.0033  loss_fracWeighted: 49.4332  loss_sampleWeight: 0.0362  loss_maskL1: 0.4030  diff_loss: 0.0000  loss_smooth: 49.8756\n",
      "Number of clusters: 2028\n"
     ]
    },
    {
     "data": {
      "image/png": "[encoded data removed]",
      "text/plain": [
       "<Figure size 432x288 with 1 Axes>"
      ]
     },
     "metadata": {
      "needs_background": "light"
     },
     "output_type": "display_data"
    },
    {
     "data": {
      "image/png": "[encoded data removed]",
      "text/plain": [
       "<Figure size 720x360 with 2 Axes>"
      ]
     },
     "metadata": {
      "needs_background": "light"
     },
     "output_type": "display_data"
    },
    {
     "data": {
      "image/png": "[encoded data removed]",
      "text/plain": [
       "<Figure size 432x288 with 1 Axes>"
      ]
     },
     "metadata": {
      "needs_background": "light"
     },
     "output_type": "display_data"
    },
    {
     "data": {
      "image/png": "[encoded data removed]",
      "text/plain": [
       "<Figure size 432x288 with 1 Axes>"
      ]
     },
     "metadata": {
      "needs_background": "light"
     },
     "output_type": "display_data"
    },
    {
     "data": {
      "image/png": "[encoded data removed]",
      "text/plain": [
       "<Figure size 432x288 with 1 Axes>"
      ]
     },
     "metadata": {
      "needs_background": "light"
     },
     "output_type": "display_data"
    },
    {
     "data": {
      "image/png": "[encoded data removed]",
      "text/plain": [
       "<Figure size 432x288 with 1 Axes>"
      ]
     },
     "metadata": {
      "needs_background": "light"
     },
     "output_type": "display_data"
    },
    {
     "data": {
      "image/png": "[encoded data removed]",
      "text/plain": [
       "<Figure size 432x288 with 1 Axes>"
      ]
     },
     "metadata": {
      "needs_background": "light"
     },
     "output_type": "display_data"
    },
    {
     "data": {
      "image/png": "[encoded data removed]",
      "text/plain": [
       "<Figure size 432x288 with 1 Axes>"
      ]
     },
     "metadata": {
      "needs_background": "light"
     },
     "output_type": "display_data"
    },
    {
     "data": {
      "image/png": "[encoded data removed]",
      "text/plain": [
       "<Figure size 432x288 with 1 Axes>"
      ]
     },
     "metadata": {
      "needs_background": "light"
     },
     "output_type": "display_data"
    },
    {
     "data": {
      "image/png": "[encoded data removed]",
      "text/plain": [
       "<Figure size 720x360 with 2 Axes>"
      ]
     },
     "metadata": {
      "needs_background": "light"
     },
     "output_type": "display_data"
    }
   ],
   "source": [
    "device = helpers.set_device(use_GPU=params['prefs']['use_GPU'])\n",
    "\n",
    "# %matplotlib notebook\n",
    "\n",
    "\n",
    "# Import paths\n",
    "def print_list(l):\n",
    "    for item in l:\n",
    "        print(item)\n",
    "\n",
    "dir_allOuterFolders = Path(params['paths']['dir_allOuterFolders']).resolve()\n",
    "\n",
    "folders_allSessions = natsort.natsorted(helpers.get_dir_contents(dir_allOuterFolders)[0])\n",
    "\n",
    "folders_toUse = folders_allSessions\n",
    "# folders_toUse = list(map(folders_allSessions.__getitem__, [np.arange(1,9, dtype=np.int32)]))\n",
    "\n",
    "\n",
    "# dir_allS2pFolders = [dir_allOuterFolders / folder / 'exp' / 'suite2p' / 'plane0' for folder in folders_toUse]\n",
    "dir_allS2pFolders = [dir_allOuterFolders / folder for folder in folders_toUse]\n",
    "\n",
    "pathSuffixToStat = params['paths']['pathSuffixToStat']\n",
    "pathSuffixToOps = params['paths']['pathSuffixToOps']\n",
    "\n",
    "paths_allStat = np.array([path / pathSuffixToStat for path in dir_allS2pFolders])[:]\n",
    "paths_allOps  = np.array([path / pathSuffixToOps for path in dir_allS2pFolders])[:]\n",
    "\n",
    "print(folders_allSessions)\n",
    "print(folders_toUse)\n",
    "print_list(dir_allS2pFolders)\n",
    "print_list(paths_allStat)\n",
    "\n",
    "\n",
    "#Import data\n",
    "data = data_importing.Data_suite2p(\n",
    "    paths_statFiles=paths_allStat,\n",
    "    paths_opsFiles=paths_allOps,\n",
    "    verbose=params['importing']['data_verbose'],\n",
    ");\n",
    "\n",
    "data.import_statFiles();\n",
    "\n",
    "data.import_ROI_centeredImages(\n",
    "    out_height_width=params['importing']['out_height_width'],\n",
    "    max_footprint_width=params['importing']['max_footprint_width'],\n",
    ");\n",
    "\n",
    "data.import_FOV_images(\n",
    "    type_meanImg=params['importing']['type_meanImg'],\n",
    "    images=params['importing']['images'],\n",
    ");\n",
    "\n",
    "data.import_ROI_spatialFootprints(workers=params['importing']['import_workers']);\n",
    "\n",
    "# visualization.display_toggle_image_stack(data.FOV_images)\n",
    "\n",
    "\n",
    "# Alignment\n",
    "aligner = alignment.Alinger(\n",
    "    method=params['alignment']['method'],\n",
    "    kwargs_method=params['alignment']['kwargs_method'],\n",
    ")\n",
    "\n",
    "aligner.register_ROIs(\n",
    "    templateFOV=data.FOV_images[0],\n",
    "    FOVs=data.FOV_images,\n",
    "    ROIs=data.spatialFootprints,\n",
    "    return_sparse=params['alignment']['return_sparse'],\n",
    "    normalize=params['alignment']['normalize'],\n",
    ");\n",
    "\n",
    "# visualization.display_toggle_image_stack(aligner.FOVs_aligned)\n",
    "# visualization.display_toggle_image_stack(aligner.get_ROIsAligned_maxIntensityProjection())\n",
    "\n",
    "\n",
    "# Blur ROIs (optional)\n",
    "blurrer = blurring.ROI_Blurrer(\n",
    "    frame_shape=(data.FOV_height, data.FOV_width),\n",
    "    kernel_halfWidth=params['blurring']['kernel_halfWidth'],\n",
    "    device=params['blurring']['device'],\n",
    "    plot_kernel=params['blurring']['plot_kernel'],\n",
    ")\n",
    "\n",
    "blurrer.blur_ROIs(\n",
    "    spatialFootprints=aligner.ROIs_aligned,\n",
    "    batch_size=params['blurring']['batch_size'],\n",
    ");\n",
    "\n",
    "# visualization.display_toggle_image_stack(blurrer.get_ROIsBlurred_maxIntensityProjection())\n",
    "\n",
    "\n",
    "# Neural network embedding distances\n",
    "hash_dict_true = {\n",
    "    'params': ('params.json', '877e17df8fa511a03bc99cd507a54403'),\n",
    "    'model': ('model.py', '6ef5c29793ae16a64e43e8cab33d9ff4'),\n",
    "    'state_dict': ('ConvNext_tiny__1_0_unfrozen__simCLR.pth', 'a5fae4c9ea95f2c78b4690222b2928a5'),\n",
    "}\n",
    "\n",
    "roinet = ROInet.ROInet_embedder(\n",
    "    device=params['ROInet']['device'],\n",
    "    dir_networkFiles=params['ROInet']['dir_networkFiles'],\n",
    "    download_from_gDrive=params['ROInet']['download_from_gDrive'],\n",
    "    gDriveID=params['ROInet']['gDriveID'],\n",
    "    hash_dict_networkFiles=hash_dict_true,\n",
    "    verbose=params['ROInet']['verbose'],\n",
    ")\n",
    "\n",
    "roinet.generate_dataloader(\n",
    "    ROI_images=data.ROI_images,\n",
    "    goal_size=params['ROInet']['goal_size'],\n",
    "    ptile_norm=params['ROInet']['ptile_norm'],\n",
    "    scale_norm=params['ROInet']['scale_norm'],\n",
    "    pref_plot=params['ROInet']['pref_plot'],\n",
    "    batchSize_dataloader=params['ROInet']['batchSize_dataloader'],\n",
    "    pinMemory_dataloader=params['ROInet']['pinMemory_dataloader'],\n",
    "    numWorkers_dataloader=mp.cpu_count(),\n",
    "    persistentWorkers_dataloader=params['ROInet']['persistentWorkers_dataloader'],\n",
    "    prefetchFactor_dataloader=params['ROInet']['prefetchFactor_dataloader'],    \n",
    ")\n",
    "\n",
    "roinet.generate_latents();\n",
    "\n",
    "gc.collect()\n",
    "torch.cuda.empty_cache()\n",
    "gc.collect()\n",
    "torch.cuda.empty_cache()\n",
    "\n",
    "\n",
    "# Scattering wavelet embedding distances\n",
    "swt = scatteringWaveletTransformer.SWT(\n",
    "    kwargs_Scattering2D=params['SWT']['kwargs_Scattering2D'], \n",
    "    image_shape=params['SWT']['image_shape'], \n",
    "    device=params['SWT']['device'],\n",
    ")\n",
    "\n",
    "swt.transform(ROI_images=np.concatenate(data.ROI_images, axis=0));\n",
    "\n",
    "# Compute similarities\n",
    "sim = similarity_graph.ROI_graph(\n",
    "    device=params['similarity']['device'],\n",
    "    n_workers=params['similarity']['n_workers'],\n",
    "    spatialFootprint_maskPower=params['similarity']['spatialFootprint_maskPower'],\n",
    "    frame_height=data.FOV_height,\n",
    "    frame_width=data.FOV_width,\n",
    "    block_height=params['similarity']['block_height'],\n",
    "    block_width=params['similarity']['block_width'],\n",
    "    overlapping_width_Multiplier=params['similarity']['overlapping_width_Multiplier'],\n",
    "    algorithm_nearestNeigbors_spatialFootprints=params['similarity']['algorithm_nearestNeigbors_spatialFootprints'],\n",
    "    n_neighbors_nearestNeighbors_spatialFootprints=params['similarity']['n_neighbors_nearestNeighbors_spatialFootprints'],\n",
    "    locality=params['similarity']['locality'],\n",
    "    verbose=params['similarity']['verbose'],\n",
    ")\n",
    "\n",
    "sim.visualize_blocks()\n",
    "\n",
    "sim.compute_similarity_blockwise(\n",
    "    spatialFootprints=blurrer.ROIs_blurred,\n",
    "    features_NN=roinet.latents,\n",
    "    features_SWT=swt.latents,\n",
    "    ROI_session_bool=data.sessionID_concat,\n",
    "    linkage_methods=params['similarity_compute']['linkage_methods'],\n",
    "    linkage_distances=helpers.bounded_logspace(0.05, 2, 50),\n",
    "    min_cluster_size=params['similarity_compute']['min_cluster_size'],\n",
    "    max_cluster_size=params['similarity_compute']['max_cluster_size'],\n",
    "    batch_size_hashing=params['similarity_compute']['batch_size_hashing'],\n",
    ");\n",
    "\n",
    "sim.compute_cluster_similarity_graph(\n",
    "        cluster_similarity_reduction_intra=params['similarity_compute']['cluster_similarity_reduction_intra'],\n",
    "        cluster_similarity_reduction_inter=params['similarity_compute']['cluster_similarity_reduction_inter'],\n",
    "        cluster_silhouette_reduction_intra=params['similarity_compute']['cluster_silhouette_reduction_intra'],\n",
    "        cluster_silhouette_reduction_inter=params['similarity_compute']['cluster_silhouette_reduction_inter'],\n",
    "        n_workers=params['similarity_compute']['n_workers'],\n",
    ");\n",
    "\n",
    "sim.compute_cluster_scores(\n",
    "    power_clusterSize=params['similarity_compute']['power_clusterSize'], \n",
    "    power_clusterSilhouette=params['similarity_compute']['power_clusterSilhouette'],\n",
    ");\n",
    "\n",
    "fig, axs = plt.subplots(1,2, figsize=(10,5))\n",
    "axs[0].plot(sim.scores.cpu())\n",
    "# plt.ylim([0,1.1])\n",
    "axs[1].plot(sim.scores.cpu())\n",
    "axs[1].set_yscale('log')\n",
    "\n",
    "plt.figure()\n",
    "plt.hist(sim.scores.cpu(), 500)\n",
    "plt.yscale('log')\n",
    "plt.xscale('log')\n",
    "\n",
    "plt.figure()\n",
    "plt.scatter((np.array(sim.cluster_bool.sum(1)).squeeze()), sim.scores, alpha=0.01)\n",
    "\n",
    "gc.collect()\n",
    "\n",
    "torch.cuda.empty_cache()\n",
    "\n",
    "gc.collect()\n",
    "\n",
    "torch.cuda.empty_cache()\n",
    "\n",
    "ca= cluster_assignment.Cluster_Assigner(\n",
    "    c=sim.c_sim,\n",
    "    h=sim.cluster_bool.T,\n",
    "    w=sim.scores,\n",
    "    device=params['clusterAssigner']['device'],\n",
    "    m_init=(torch.ones(sim.c_sim.shape[0])*-5 + torch.rand(sim.c_sim.shape[0])*1).type(torch.float32),\n",
    "    optimizer_partial=functools.partial(torch.optim.Adam, lr=params['clusterAssigner']['optimizer_partial_lr'], betas=params['clusterAssigner']['optimizer_partial_betas']),\n",
    "    scheduler_partial=functools.partial(torch.optim.lr_scheduler.CyclicLR, base_lr=params['clusterAssigner']['scheduler_partial_base_lr'], max_lr=params['clusterAssigner']['scheduler_partial_max_lr'], step_size_up=params['clusterAssigner']['scheduler_partial_step_size_up'], cycle_momentum=params['clusterAssigner']['scheduler_partial_cycle_momentum'], verbose=params['clusterAssigner']['scheduler_partial_verbose']),\n",
    "    dmCEL_temp=params['clusterAssigner']['dmCEL_temp'],\n",
    "    dmCEL_sigSlope=params['clusterAssigner']['dmCEL_sigSlope'],\n",
    "    dmCEL_sigCenter=params['clusterAssigner']['dmCEL_sigCenter'],\n",
    "    dmCEL_penalty=params['clusterAssigner']['dmCEL_penalty'],\n",
    "    sampleWeight_softplusKwargs=params['clusterAssigner']['sampleWeight_softplusKwargs'],\n",
    "    sampleWeight_penalty=params['clusterAssigner']['sampleWeight_penalty'],\n",
    "    fracWeighted_goalFrac=params['clusterAssigner']['fracWeighted_goalFrac'],\n",
    "    fracWeighted_sigSlope=params['clusterAssigner']['fracWeighted_sigSlope'],\n",
    "    fracWeighted_sigCenter=params['clusterAssigner']['fracWeighted_sigCenter'],\n",
    "    fracWeight_penalty=params['clusterAssigner']['fracWeight_penalty'],\n",
    "    maskL1_penalty=params['clusterAssigner']['maskL1_penalty'],\n",
    "    tol_convergence=params['clusterAssigner']['tol_convergence'],\n",
    "    window_convergence=params['clusterAssigner']['window_convergence'],\n",
    "    freqCheck_convergence=params['clusterAssigner']['freqCheck_convergence'],\n",
    "    verbose=params['clusterAssigner']['verbose'],\n",
    ")\n",
    "\n",
    "ca.fit(\n",
    "    min_iter=params['clusterAssigner_fit']['min_iter'],\n",
    "    max_iter=params['clusterAssigner_fit']['max_iter'],\n",
    "    verbose=params['clusterAssigner_fit']['verbose'], \n",
    "    verbose_interval=params['clusterAssigner_fit']['verbose_interval'],\n",
    ")\n",
    "\n",
    "ca.plot_loss()\n",
    "\n",
    "# del clusterAssigner\n",
    "\n",
    "gc.collect()\n",
    "\n",
    "torch.cuda.empty_cache()\n",
    "\n",
    "gc.collect()\n",
    "\n",
    "torch.cuda.empty_cache()\n",
    "\n",
    "# clusterAssigner.plot_c_masked_matrix()\n",
    "\n",
    "preds, confidence, scores_samples, m_bool = ca.predict(m_threshold=params['clusterAssigner_fit']['m_threshold'])\n",
    "# preds, confidence, scores_samples, m_bool = clusterAssigner.predict(m_threshold=0.99)\n",
    "\n",
    "ca.plot_clusterWeights()\n",
    "\n",
    "ca.plot_sampleWeights()\n",
    "\n",
    "ca.plot_clusterScores(bins=200)\n",
    "# plt.xscale('log')\n",
    "# plt.yscale('log')\n",
    "\n",
    "fig, axs = ca.plot_labelCounts()\n",
    "axs[0].set_ylim([0,20]);\n",
    "\n",
    "print(f'Number of clusters: {m_bool.sum()}')\n",
    "\n",
    "\n",
    "\n",
    "# visualization\n",
    "FOV_clusters = visualization.compute_colored_FOV(\n",
    "    spatialFootprints=aligner.ROIs_aligned,\n",
    "    FOV_height=data.FOV_height,\n",
    "    FOV_width=data.FOV_width,\n",
    "    preds=ca.preds,\n",
    "    confidence=ca.confidence,\n",
    "    threshold_confidence = params['visualization']['FOV_threshold_confidence'],\n",
    "#     threshold_confidence = 0.99,\n",
    ")\n",
    "\n",
    "# %matplotlib notebook\n",
    "# visualization.display_toggle_image_stack(FOV_clusters)\n",
    "\n",
    "preds_by_session = [preds[idx].numpy() for idx in data.sessionID_concat.T]\n",
    "\n",
    "ROIs = {\n",
    "    \"ROIs_aligned\": aligner.ROIs_aligned,\n",
    "    \"ROIs_raw\": data.spatialFootprints,\n",
    "    \"frame_height\": data.FOV_height,\n",
    "    \"frame_width\": data.FOV_width,\n",
    "    \"idx_roi_session\": [np.where(idx)[0] for idx in data.sessionID_concat.T]\n",
    "}\n",
    "\n",
    "name_save = os.path.split(dir_allOuterFolders)[-1]\n",
    "helpers.simple_save(\n",
    "    {\n",
    "        \"UCIDs\": list(ca.preds.numpy().astype(np.int64)),\n",
    "        \"UCIDs_bySession\": preds_by_session,\n",
    "        \"ROIs\": ROIs,\n",
    "    },\n",
    "    filename=Path(dir_save) / (name_save + '.plane0.rClust' '.pkl'),\n",
    "#     filename='/media/rich/bigSSD/analysis_data/mouse 2_6/multiday_alignment/UCIDs.pkl'\n",
    ")\n",
    "\n",
    "gc.collect()\n",
    "\n",
    "torch.cuda.empty_cache()"
   ]
  },
  {
   "cell_type": "code",
   "execution_count": 8,
   "id": "e7d27ca3",
   "metadata": {},
   "outputs": [],
   "source": [
    "# # %matplotlib notebook\n",
    "# visualization.display_toggle_image_stack(FOV_clusters)\n"
   ]
  },
  {
   "cell_type": "code",
   "execution_count": 9,
   "id": "57953e44",
   "metadata": {},
   "outputs": [],
   "source": [
    "# import numpy as np\n",
    "# import scipy.sparse\n",
    "\n",
    "# import torch_sparse as ts\n",
    "\n",
    "# scipy.sparse.save_npz(\n",
    "#     file=r'/home/rich/Desktop/c_sim.npz',\n",
    "#     matrix=sim.c_sim.tocsr(),\n",
    "#     compressed=True\n",
    "# )\n",
    "# scipy.sparse.save_npz(\n",
    "#     file=r'/home/rich/Desktop/cluster_bool.npz',\n",
    "#     matrix=sim.cluster_bool.tocsr(),\n",
    "#     compressed=True\n",
    "# )\n",
    "# np.save(\n",
    "#     file=r'/home/rich/Desktop/scores.npy',\n",
    "#     arr=sim.scores.numpy(),\n",
    "# )\n",
    "\n",
    "# c_sim = scipy.sparse.load_npz(file=r'/home/rich/Desktop/c_sim.npz').tolil()\n",
    "# cluster_bool = scipy.sparse.load_npz(file=r'/home/rich/Desktop/cluster_bool.npz').tocsr()\n",
    "# scores = torch.as_tensor(np.load(file=r'/home/rich/Desktop/scores.npy'), dtype=torch.float32)"
   ]
  },
  {
   "cell_type": "code",
   "execution_count": null,
   "id": "eaec9ba9",
   "metadata": {},
   "outputs": [],
   "source": []
  },
  {
   "cell_type": "code",
   "execution_count": null,
   "id": "e6fa1fa6",
   "metadata": {},
   "outputs": [],
   "source": []
  },
  {
   "cell_type": "code",
   "execution_count": null,
   "id": "847b9c6d",
   "metadata": {},
   "outputs": [],
   "source": []
  },
  {
   "cell_type": "code",
   "execution_count": null,
   "id": "e664ee9e",
   "metadata": {},
   "outputs": [],
   "source": []
  },
  {
   "cell_type": "code",
   "execution_count": null,
   "id": "bb303f80",
   "metadata": {},
   "outputs": [],
   "source": []
  },
  {
   "cell_type": "code",
   "execution_count": null,
   "id": "8fab81b7",
   "metadata": {},
   "outputs": [],
   "source": []
  },
  {
   "cell_type": "code",
   "execution_count": null,
   "id": "d80804f2",
   "metadata": {},
   "outputs": [],
   "source": []
  },
  {
   "cell_type": "code",
   "execution_count": null,
   "id": "f4a8f45a",
   "metadata": {},
   "outputs": [],
   "source": []
  },
  {
   "cell_type": "code",
   "execution_count": null,
   "id": "36cf14b2",
   "metadata": {},
   "outputs": [],
   "source": []
  },
  {
   "cell_type": "code",
   "execution_count": null,
   "id": "e567e9ae",
   "metadata": {},
   "outputs": [],
   "source": []
  }
 ],
 "metadata": {
  "kernelspec": {
   "display_name": "Python 3 (ipykernel)",
   "language": "python",
   "name": "python3"
  },
  "language_info": {
   "codemirror_mode": {
    "name": "ipython",
    "version": 3
   },
   "file_extension": ".py",
   "mimetype": "text/x-python",
   "name": "python",
   "nbconvert_exporter": "python",
   "pygments_lexer": "ipython3",
   "version": "3.9.12"
  },
  "vscode": {
   "interpreter": {
    "hash": "2884eabb8096b1e7cd90110c1616d829c56882231962761420acd4f852f6003e"
   }
  }
 },
 "nbformat": 4,
 "nbformat_minor": 5
}
