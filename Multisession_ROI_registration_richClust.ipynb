{
 "cells": [
  {
   "cell_type": "markdown",
   "id": "50622a4e",
   "metadata": {},
   "source": [
    "# Setup"
   ]
  },
  {
   "cell_type": "code",
   "execution_count": 1,
   "id": "92846ae4",
   "metadata": {},
   "outputs": [
    {
     "data": {
      "text/html": [
       "<style>.container {width:95% !important; }</style>"
      ],
      "text/plain": [
       "<IPython.core.display.HTML object>"
      ]
     },
     "metadata": {},
     "output_type": "display_data"
    },
    {
     "name": "stdout",
     "output_type": "stream",
     "text": [
      "Conda Environment: rich_clust\n",
      "python version: 3.9.12\n"
     ]
    }
   ],
   "source": [
    "# widen jupyter notebook window\n",
    "from IPython.display import display, HTML\n",
    "display(HTML(\"<style>.container {width:95% !important; }</style>\"))\n",
    "\n",
    "# check environment\n",
    "import os\n",
    "print(f'Conda Environment: ' + os.environ['CONDA_DEFAULT_ENV'])\n",
    "\n",
    "from platform import python_version\n",
    "print(f'python version: {python_version()}')"
   ]
  },
  {
   "cell_type": "code",
   "execution_count": 2,
   "id": "c4eb1fa5",
   "metadata": {},
   "outputs": [],
   "source": [
    "import os\n",
    "from pathlib import Path\n",
    "import scipy.io\n",
    "import scipy.sparse\n",
    "import matplotlib.pyplot as plt\n",
    "import numpy as np\n",
    "import sklearn.manifold\n",
    "import sklearn.cluster\n",
    "import seaborn as sns\n",
    "import pandas as pd\n",
    "import sparse\n",
    "import cv2\n",
    "import natsort\n",
    "\n",
    "import torch\n",
    "from kymatio.torch import Scattering2D\n",
    "\n",
    "import gc\n",
    "from tqdm.notebook import tqdm\n",
    "import copy\n",
    "import time\n",
    "import random\n",
    "import functools\n",
    "import multiprocessing as mp\n"
   ]
  },
  {
   "cell_type": "code",
   "execution_count": 3,
   "id": "6f64a6ae",
   "metadata": {},
   "outputs": [],
   "source": [
    "params = {\n",
    "    'dir_github': r'/media/rich/Home_Linux_partition/github_repos/',\n",
    "    'dir_allOuterFolders': r\"/media/rich/bigSSD/other lab data/Harnett_lab/ROI_Tracking/Vincent_Valerio/4th_email/AllStatFiles/rbp10\",\n",
    "    'pathSuffixToStat': 'plane1/stat.npy',\n",
    "    'pathSuffixToOps': 'plane1/ops.npy',\n",
    "    'pref_use_NN_distances': True,\n",
    "    'use_GPU': True,\n",
    "    'pref_blurROIs': True,\n",
    "    'params_blur': {\n",
    "        'kernel_size': 7, # Edge length of kernel image. Make odd number.\n",
    "        'kernel_width': 2.1, # width of 1 full cosine cycle for the 2d cosine kernel. Use width=2 for a single pixel.\n",
    "    },\n",
    "    'mask_power': 1, ## This parameter determines how 'binary'-looking masks are. Small values = more binary. Large values weight bright pixels more. mask_scaled = mask**mask_power\n",
    "    'params_dIOU': {\n",
    "        'algorithm': 'brute', ## Can be 'brute', 'auto', or anything from sklearn.neighbors.NearestNeighbors\n",
    "        'n_neighbors': 'full', ## Can either be an int or 'full', in which case the output will not be sparse\n",
    "    }\n",
    "}"
   ]
  },
  {
   "cell_type": "code",
   "execution_count": 4,
   "id": "2c1de7bf",
   "metadata": {},
   "outputs": [],
   "source": [
    "dir_github = Path(params['dir_github']).resolve()\n",
    "\n",
    "import sys\n",
    "sys.path.append(str(dir_github))\n",
    "\n",
    "%load_ext autoreload\n",
    "%autoreload 2\n",
    "from basic_neural_processing_modules import path_helpers, torch_helpers, featurization, indexing, misc, torch_helpers, plotting_helpers, classification, math_functions, parallel_helpers, clustering, image_processing, pickle_helpers, container_helpers"
   ]
  },
  {
   "cell_type": "code",
   "execution_count": 5,
   "id": "357e7873",
   "metadata": {},
   "outputs": [
    {
     "name": "stdout",
     "output_type": "stream",
     "text": [
      "devices available: [_CudaDeviceProperties(name='NVIDIA GeForce RTX 3090', major=8, minor=6, total_memory=24234MB, multi_processor_count=82)]\n",
      "Using device: 'cuda:0': _CudaDeviceProperties(name='NVIDIA GeForce RTX 3090', major=8, minor=6, total_memory=24234MB, multi_processor_count=82)\n"
     ]
    }
   ],
   "source": [
    "device = torch_helpers.set_device(use_GPU=params['use_GPU'])"
   ]
  },
  {
   "cell_type": "raw",
   "id": "675a7660",
   "metadata": {},
   "source": [
    "%load_ext autoreload\n",
    "%autoreload 2\n",
    "from Big_Ugly_ROI_Tracker.multiEps.multiEps_modules import *"
   ]
  },
  {
   "cell_type": "code",
   "execution_count": 9,
   "id": "d343f2b6",
   "metadata": {},
   "outputs": [
    {
     "name": "stdout",
     "output_type": "stream",
     "text": [
      "The autoreload extension is already loaded. To reload it, use:\n",
      "  %reload_ext autoreload\n"
     ]
    }
   ],
   "source": [
    "%load_ext autoreload\n",
    "%autoreload 2\n",
    "from registration_rClust import data_importing, visualization, alignment, blurring, helpers, ROInet, scatteringWaveletTransformer, similarity_graph, cluster_assignment"
   ]
  },
  {
   "cell_type": "code",
   "execution_count": 10,
   "id": "3c3df668",
   "metadata": {},
   "outputs": [],
   "source": [
    "%matplotlib notebook"
   ]
  },
  {
   "cell_type": "markdown",
   "id": "b8adf6d9",
   "metadata": {},
   "source": [
    "# Import paths"
   ]
  },
  {
   "cell_type": "code",
   "execution_count": 11,
   "id": "b5a2d2ca",
   "metadata": {},
   "outputs": [],
   "source": [
    "def print_list(l):\n",
    "    for item in l:\n",
    "        print(item)"
   ]
  },
  {
   "cell_type": "code",
   "execution_count": 12,
   "id": "1e71370c",
   "metadata": {},
   "outputs": [
    {
     "name": "stdout",
     "output_type": "stream",
     "text": [
      "['D1', 'D2', 'D3', 'D4', 'D5', 'D6', 'D7', 'D8', 'D9', 'D10', 'D11', 'D12', 'D13', 'D14']\n",
      "['D1', 'D2', 'D3', 'D4', 'D5', 'D6', 'D7', 'D8', 'D9', 'D10', 'D11', 'D12', 'D13', 'D14']\n",
      "/media/rich/bigSSD/other lab data/Harnett_lab/ROI_Tracking/Vincent_Valerio/4th_email/AllStatFiles/rbp10/D1\n",
      "/media/rich/bigSSD/other lab data/Harnett_lab/ROI_Tracking/Vincent_Valerio/4th_email/AllStatFiles/rbp10/D2\n",
      "/media/rich/bigSSD/other lab data/Harnett_lab/ROI_Tracking/Vincent_Valerio/4th_email/AllStatFiles/rbp10/D3\n",
      "/media/rich/bigSSD/other lab data/Harnett_lab/ROI_Tracking/Vincent_Valerio/4th_email/AllStatFiles/rbp10/D4\n",
      "/media/rich/bigSSD/other lab data/Harnett_lab/ROI_Tracking/Vincent_Valerio/4th_email/AllStatFiles/rbp10/D5\n",
      "/media/rich/bigSSD/other lab data/Harnett_lab/ROI_Tracking/Vincent_Valerio/4th_email/AllStatFiles/rbp10/D6\n",
      "/media/rich/bigSSD/other lab data/Harnett_lab/ROI_Tracking/Vincent_Valerio/4th_email/AllStatFiles/rbp10/D7\n",
      "/media/rich/bigSSD/other lab data/Harnett_lab/ROI_Tracking/Vincent_Valerio/4th_email/AllStatFiles/rbp10/D8\n",
      "/media/rich/bigSSD/other lab data/Harnett_lab/ROI_Tracking/Vincent_Valerio/4th_email/AllStatFiles/rbp10/D9\n",
      "/media/rich/bigSSD/other lab data/Harnett_lab/ROI_Tracking/Vincent_Valerio/4th_email/AllStatFiles/rbp10/D10\n",
      "/media/rich/bigSSD/other lab data/Harnett_lab/ROI_Tracking/Vincent_Valerio/4th_email/AllStatFiles/rbp10/D11\n",
      "/media/rich/bigSSD/other lab data/Harnett_lab/ROI_Tracking/Vincent_Valerio/4th_email/AllStatFiles/rbp10/D12\n",
      "/media/rich/bigSSD/other lab data/Harnett_lab/ROI_Tracking/Vincent_Valerio/4th_email/AllStatFiles/rbp10/D13\n",
      "/media/rich/bigSSD/other lab data/Harnett_lab/ROI_Tracking/Vincent_Valerio/4th_email/AllStatFiles/rbp10/D14\n",
      "/media/rich/bigSSD/other lab data/Harnett_lab/ROI_Tracking/Vincent_Valerio/4th_email/AllStatFiles/rbp10/D1/plane1/stat.npy\n",
      "/media/rich/bigSSD/other lab data/Harnett_lab/ROI_Tracking/Vincent_Valerio/4th_email/AllStatFiles/rbp10/D2/plane1/stat.npy\n",
      "/media/rich/bigSSD/other lab data/Harnett_lab/ROI_Tracking/Vincent_Valerio/4th_email/AllStatFiles/rbp10/D3/plane1/stat.npy\n",
      "/media/rich/bigSSD/other lab data/Harnett_lab/ROI_Tracking/Vincent_Valerio/4th_email/AllStatFiles/rbp10/D4/plane1/stat.npy\n",
      "/media/rich/bigSSD/other lab data/Harnett_lab/ROI_Tracking/Vincent_Valerio/4th_email/AllStatFiles/rbp10/D5/plane1/stat.npy\n",
      "/media/rich/bigSSD/other lab data/Harnett_lab/ROI_Tracking/Vincent_Valerio/4th_email/AllStatFiles/rbp10/D6/plane1/stat.npy\n",
      "/media/rich/bigSSD/other lab data/Harnett_lab/ROI_Tracking/Vincent_Valerio/4th_email/AllStatFiles/rbp10/D7/plane1/stat.npy\n",
      "/media/rich/bigSSD/other lab data/Harnett_lab/ROI_Tracking/Vincent_Valerio/4th_email/AllStatFiles/rbp10/D8/plane1/stat.npy\n",
      "/media/rich/bigSSD/other lab data/Harnett_lab/ROI_Tracking/Vincent_Valerio/4th_email/AllStatFiles/rbp10/D9/plane1/stat.npy\n",
      "/media/rich/bigSSD/other lab data/Harnett_lab/ROI_Tracking/Vincent_Valerio/4th_email/AllStatFiles/rbp10/D10/plane1/stat.npy\n",
      "/media/rich/bigSSD/other lab data/Harnett_lab/ROI_Tracking/Vincent_Valerio/4th_email/AllStatFiles/rbp10/D11/plane1/stat.npy\n",
      "/media/rich/bigSSD/other lab data/Harnett_lab/ROI_Tracking/Vincent_Valerio/4th_email/AllStatFiles/rbp10/D12/plane1/stat.npy\n",
      "/media/rich/bigSSD/other lab data/Harnett_lab/ROI_Tracking/Vincent_Valerio/4th_email/AllStatFiles/rbp10/D13/plane1/stat.npy\n",
      "/media/rich/bigSSD/other lab data/Harnett_lab/ROI_Tracking/Vincent_Valerio/4th_email/AllStatFiles/rbp10/D14/plane1/stat.npy\n"
     ]
    }
   ],
   "source": [
    "dir_allOuterFolders = Path(params['dir_allOuterFolders']).resolve()\n",
    "\n",
    "folders_allSessions = natsort.natsorted(path_helpers.get_dir_contents(dir_allOuterFolders)[0])\n",
    "\n",
    "folders_toUse = folders_allSessions\n",
    "# folders_toUse = list(map(folders_allSessions.__getitem__, [np.arange(1,9, dtype=np.int32)]))\n",
    "\n",
    "\n",
    "# dir_allS2pFolders = [dir_allOuterFolders / folder / 'exp' / 'suite2p' / 'plane0' for folder in folders_toUse]\n",
    "dir_allS2pFolders = [dir_allOuterFolders / folder for folder in folders_toUse]\n",
    "\n",
    "pathSuffixToStat = params['pathSuffixToStat']\n",
    "pathSuffixToOps = params['pathSuffixToOps']\n",
    "\n",
    "paths_allStat = np.array([path / pathSuffixToStat for path in dir_allS2pFolders])[:]\n",
    "paths_allOps  = np.array([path / pathSuffixToOps for path in dir_allS2pFolders])[:]\n",
    "\n",
    "print(folders_allSessions)\n",
    "print(folders_toUse)\n",
    "print_list(dir_allS2pFolders)\n",
    "print_list(paths_allStat)"
   ]
  },
  {
   "cell_type": "markdown",
   "id": "645ea98d",
   "metadata": {},
   "source": [
    "# Import data"
   ]
  },
  {
   "cell_type": "code",
   "execution_count": 13,
   "id": "e3a9c2f3",
   "metadata": {},
   "outputs": [],
   "source": [
    "data = data_importing.Data_suite2p(\n",
    "    paths_statFiles=paths_allStat,\n",
    "    paths_opsFiles=paths_allOps,\n",
    "    verbose=True,\n",
    ")"
   ]
  },
  {
   "cell_type": "code",
   "execution_count": 14,
   "id": "559063ed",
   "metadata": {},
   "outputs": [
    {
     "name": "stdout",
     "output_type": "stream",
     "text": [
      "Imported 14 stat files into class as self.statFiles. Total number of ROIs: 37061. Number of ROI from each file: [2451, 2798, 2656, 2865, 2349, 2926, 2527, 2055, 4600, 2735, 2740, 1915, 2286, 2158]\n"
     ]
    },
    {
     "name": "stderr",
     "output_type": "stream",
     "text": [
      "100%|███████████████████████████████████████████| 14/14 [00:01<00:00, 10.76it/s]\n"
     ]
    },
    {
     "name": "stdout",
     "output_type": "stream",
     "text": [
      "Converted 14 spatial footprint files into small centered images in self.ROI_images.\n",
      "Imported 14 FOV images into class as self.FOV_images\n",
      "Imported 14 sessions of spatial footprints into sparse arrays.\n"
     ]
    }
   ],
   "source": [
    "data.import_statFiles();\n",
    "\n",
    "data.import_ROI_centeredImages(\n",
    "    out_height_width=[36, 36],\n",
    "    max_footprint_width=1025,\n",
    ");\n",
    "\n",
    "data.import_FOV_images(\n",
    "    type_meanImg='meanImgE',\n",
    "    images=None\n",
    ");\n",
    "\n",
    "data.import_ROI_spatialFootprints(workers=-1);"
   ]
  },
  {
   "cell_type": "code",
   "execution_count": 15,
   "id": "147c111d",
   "metadata": {},
   "outputs": [],
   "source": [
    "# visualization.display_toggle_image_stack(data.FOV_images)"
   ]
  },
  {
   "cell_type": "markdown",
   "id": "f57cd278",
   "metadata": {},
   "source": [
    "# Alignment"
   ]
  },
  {
   "cell_type": "code",
   "execution_count": 16,
   "id": "9fa135b7",
   "metadata": {},
   "outputs": [
    {
     "name": "stderr",
     "output_type": "stream",
     "text": [
      "100%|███████████████████████████████████████████| 14/14 [03:03<00:00, 13.10s/it]\n"
     ]
    }
   ],
   "source": [
    "aligner = alignment.Alinger(\n",
    "    method='createOptFlow_DeepFlow',\n",
    "    kwargs_method=None\n",
    ")\n",
    "\n",
    "aligner.register_ROIs(\n",
    "    templateFOV=data.FOV_images[0],\n",
    "    FOVs=data.FOV_images,\n",
    "    ROIs=data.spatialFootprints,\n",
    "    return_sparse=True,\n",
    "    normalize=True,\n",
    ");"
   ]
  },
  {
   "cell_type": "code",
   "execution_count": 17,
   "id": "ab9eec6a",
   "metadata": {
    "scrolled": false
   },
   "outputs": [],
   "source": [
    "# visualization.display_toggle_image_stack(aligner.FOVs_aligned)\n",
    "# visualization.display_toggle_image_stack(aligner.get_ROIsAligned_maxIntensityProjection())"
   ]
  },
  {
   "cell_type": "markdown",
   "id": "f7ce87c7",
   "metadata": {},
   "source": [
    "## Blur ROIs (optional)"
   ]
  },
  {
   "cell_type": "code",
   "execution_count": 18,
   "id": "e8625582",
   "metadata": {},
   "outputs": [],
   "source": [
    "blurrer = blurring.ROI_Blurrer(\n",
    "    frame_shape=(data.FOV_height, data.FOV_width),\n",
    "    kernel_halfWidth=2.0,\n",
    "    device='cpu',\n",
    "    plot_kernel=False\n",
    ")\n",
    "\n",
    "blurrer.blur_ROIs(\n",
    "    spatialFootprints=aligner.ROIs_aligned,\n",
    "    batch_size=2000,\n",
    ");"
   ]
  },
  {
   "cell_type": "code",
   "execution_count": 19,
   "id": "8f60fc00",
   "metadata": {},
   "outputs": [],
   "source": [
    "# visualization.display_toggle_image_stack(blurrer.get_ROIsBlurred_maxIntensityProjection())"
   ]
  },
  {
   "cell_type": "markdown",
   "id": "4c6e7d80",
   "metadata": {},
   "source": [
    "## Neural network embedding distances"
   ]
  },
  {
   "cell_type": "code",
   "execution_count": 20,
   "id": "946d6e52",
   "metadata": {},
   "outputs": [
    {
     "data": {
      "text/plain": [
       "(2451, 36, 36)"
      ]
     },
     "execution_count": 20,
     "metadata": {},
     "output_type": "execute_result"
    }
   ],
   "source": [
    "data.ROI_images[0].shape"
   ]
  },
  {
   "cell_type": "code",
   "execution_count": null,
   "id": "7dc3920f",
   "metadata": {
    "scrolled": true
   },
   "outputs": [
    {
     "name": "stdout",
     "output_type": "stream",
     "text": [
      "Successful hash comparison. Found matching files: {'params': '/home/rich/Downloads/ROInet/params.json', 'model': '/home/rich/Downloads/ROInet/model.py', 'state_dict': '/home/rich/Downloads/ROInet/ConvNext_tiny__1_0_unfrozen__simCLR.pth'}\n",
      "Imported model from /home/rich/Downloads/ROInet/model.py\n",
      "Loaded params_model from /home/rich/Downloads/ROInet/params.json\n"
     ]
    },
    {
     "name": "stderr",
     "output_type": "stream",
     "text": [
      "/media/rich/OS/Users/Richard/Linux_stuff_on_OS/conda_envs/envs/rich_clust/lib/python3.9/site-packages/torchvision/models/_utils.py:208: UserWarning: The parameter 'pretrained' is deprecated since 0.13 and will be removed in 0.15, please use 'weights' instead.\n",
      "  warnings.warn(\n",
      "/media/rich/OS/Users/Richard/Linux_stuff_on_OS/conda_envs/envs/rich_clust/lib/python3.9/site-packages/torchvision/models/_utils.py:223: UserWarning: Arguments other than a weight enum or `None` for 'weights' are deprecated since 0.13 and will be removed in 0.15. The current behavior is equivalent to passing `weights=ConvNeXt_Tiny_Weights.IMAGENET1K_V1`. You can also use `weights=ConvNeXt_Tiny_Weights.DEFAULT` to get the most up-to-date weights.\n",
      "  warnings.warn(msg)\n"
     ]
    },
    {
     "name": "stdout",
     "output_type": "stream",
     "text": [
      "Generated network using params_model\n",
      "Loaded state_dict into network from /home/rich/Downloads/ROInet/ConvNext_tiny__1_0_unfrozen__simCLR.pth\n",
      "Loaded network onto device cuda:0\n",
      "Starting: resizing ROIs\n"
     ]
    },
    {
     "name": "stderr",
     "output_type": "stream",
     "text": [
      "100%|███████████████████████████████████████████| 14/14 [00:00<00:00, 21.46it/s]\n",
      "100%|███████████████████████████████████████████| 14/14 [00:04<00:00,  3.13it/s]\n"
     ]
    },
    {
     "name": "stdout",
     "output_type": "stream",
     "text": [
      "Completed: resizing ROIs\n",
      "Defined image transformations: Sequential(\n",
      "  (0): ScaleDynamicRange(scaler_bounds=(0, 1))\n",
      "  (1): Resize(size=(224, 224), interpolation=bilinear, max_size=None, antialias=None)\n",
      "  (2): TileChannels(dim=0)\n",
      ")\n",
      "Defined dataset\n",
      "Defined dataloader\n",
      "starting: running data through network\n"
     ]
    },
    {
     "name": "stderr",
     "output_type": "stream",
     "text": [
      "  0%|                                                  | 0/4633 [00:00<?, ?it/s]/media/rich/OS/Users/Richard/Linux_stuff_on_OS/conda_envs/envs/rich_clust/lib/python3.9/site-packages/torch/nn/modules/module.py:1130: UserWarning: operator() profile_node %253 : int = prim::profile_ivalue(%out_dtype.1)\n",
      " does not have profile information (Triggered internally at  ../torch/csrc/jit/codegen/cuda/graph_fuser.cpp:104.)\n",
      "  return forward_call(*input, **kwargs)\n",
      "/media/rich/OS/Users/Richard/Linux_stuff_on_OS/conda_envs/envs/rich_clust/lib/python3.9/site-packages/torch/nn/modules/module.py:1130: UserWarning: operator() profile_node %253 : int = prim::profile_ivalue(%out_dtype.1)\n",
      " does not have profile information (Triggered internally at  ../torch/csrc/jit/codegen/cuda/graph_fuser.cpp:104.)\n",
      "  return forward_call(*input, **kwargs)\n",
      "/media/rich/OS/Users/Richard/Linux_stuff_on_OS/conda_envs/envs/rich_clust/lib/python3.9/site-packages/torch/nn/modules/module.py:1130: UserWarning: operator() profile_node %253 : int = prim::profile_ivalue(%out_dtype.1)\n",
      " does not have profile information (Triggered internally at  ../torch/csrc/jit/codegen/cuda/graph_fuser.cpp:104.)\n",
      "  return forward_call(*input, **kwargs)\n",
      "/media/rich/OS/Users/Richard/Linux_stuff_on_OS/conda_envs/envs/rich_clust/lib/python3.9/site-packages/torch/nn/modules/module.py:1130: UserWarning: operator() profile_node %253 : int = prim::profile_ivalue(%out_dtype.1)\n",
      " does not have profile information (Triggered internally at  ../torch/csrc/jit/codegen/cuda/graph_fuser.cpp:104.)\n",
      "  return forward_call(*input, **kwargs)\n",
      "/media/rich/OS/Users/Richard/Linux_stuff_on_OS/conda_envs/envs/rich_clust/lib/python3.9/site-packages/torch/nn/modules/module.py:1130: UserWarning: operator() profile_node %253 : int = prim::profile_ivalue(%out_dtype.1)\n",
      " does not have profile information (Triggered internally at  ../torch/csrc/jit/codegen/cuda/graph_fuser.cpp:104.)\n",
      "  return forward_call(*input, **kwargs)\n",
      "/media/rich/OS/Users/Richard/Linux_stuff_on_OS/conda_envs/envs/rich_clust/lib/python3.9/site-packages/torch/nn/modules/module.py:1130: UserWarning: operator() profile_node %253 : int = prim::profile_ivalue(%out_dtype.1)\n",
      " does not have profile information (Triggered internally at  ../torch/csrc/jit/codegen/cuda/graph_fuser.cpp:104.)\n",
      "  return forward_call(*input, **kwargs)\n",
      "/media/rich/OS/Users/Richard/Linux_stuff_on_OS/conda_envs/envs/rich_clust/lib/python3.9/site-packages/torch/nn/modules/module.py:1130: UserWarning: operator() profile_node %253 : int = prim::profile_ivalue(%out_dtype.1)\n",
      " does not have profile information (Triggered internally at  ../torch/csrc/jit/codegen/cuda/graph_fuser.cpp:104.)\n",
      "  return forward_call(*input, **kwargs)\n",
      "/media/rich/OS/Users/Richard/Linux_stuff_on_OS/conda_envs/envs/rich_clust/lib/python3.9/site-packages/torch/nn/modules/module.py:1130: UserWarning: operator() profile_node %253 : int = prim::profile_ivalue(%out_dtype.1)\n",
      " does not have profile information (Triggered internally at  ../torch/csrc/jit/codegen/cuda/graph_fuser.cpp:104.)\n",
      "  return forward_call(*input, **kwargs)\n",
      "/media/rich/OS/Users/Richard/Linux_stuff_on_OS/conda_envs/envs/rich_clust/lib/python3.9/site-packages/torch/nn/modules/module.py:1130: UserWarning: operator() profile_node %253 : int = prim::profile_ivalue(%out_dtype.1)\n",
      " does not have profile information (Triggered internally at  ../torch/csrc/jit/codegen/cuda/graph_fuser.cpp:104.)\n",
      "  return forward_call(*input, **kwargs)\n",
      "/media/rich/OS/Users/Richard/Linux_stuff_on_OS/conda_envs/envs/rich_clust/lib/python3.9/site-packages/torch/nn/modules/module.py:1130: UserWarning: operator() profile_node %253 : int = prim::profile_ivalue(%out_dtype.1)\n",
      " does not have profile information (Triggered internally at  ../torch/csrc/jit/codegen/cuda/graph_fuser.cpp:104.)\n",
      "  return forward_call(*input, **kwargs)\n",
      "/media/rich/OS/Users/Richard/Linux_stuff_on_OS/conda_envs/envs/rich_clust/lib/python3.9/site-packages/torch/nn/modules/module.py:1130: UserWarning: operator() profile_node %253 : int = prim::profile_ivalue(%out_dtype.1)\n",
      " does not have profile information (Triggered internally at  ../torch/csrc/jit/codegen/cuda/graph_fuser.cpp:104.)\n",
      "  return forward_call(*input, **kwargs)\n",
      "/media/rich/OS/Users/Richard/Linux_stuff_on_OS/conda_envs/envs/rich_clust/lib/python3.9/site-packages/torch/nn/modules/module.py:1130: UserWarning: operator() profile_node %253 : int = prim::profile_ivalue(%out_dtype.1)\n",
      " does not have profile information (Triggered internally at  ../torch/csrc/jit/codegen/cuda/graph_fuser.cpp:104.)\n",
      "  return forward_call(*input, **kwargs)\n",
      "/media/rich/OS/Users/Richard/Linux_stuff_on_OS/conda_envs/envs/rich_clust/lib/python3.9/site-packages/torch/nn/modules/module.py:1130: UserWarning: operator() profile_node %253 : int = prim::profile_ivalue(%out_dtype.1)\n",
      " does not have profile information (Triggered internally at  ../torch/csrc/jit/codegen/cuda/graph_fuser.cpp:104.)\n",
      "  return forward_call(*input, **kwargs)\n",
      "/media/rich/OS/Users/Richard/Linux_stuff_on_OS/conda_envs/envs/rich_clust/lib/python3.9/site-packages/torch/nn/modules/module.py:1130: UserWarning: operator() profile_node %253 : int = prim::profile_ivalue(%out_dtype.1)\n",
      " does not have profile information (Triggered internally at  ../torch/csrc/jit/codegen/cuda/graph_fuser.cpp:104.)\n",
      "  return forward_call(*input, **kwargs)\n",
      "/media/rich/OS/Users/Richard/Linux_stuff_on_OS/conda_envs/envs/rich_clust/lib/python3.9/site-packages/torch/nn/modules/module.py:1130: UserWarning: operator() profile_node %253 : int = prim::profile_ivalue(%out_dtype.1)\n",
      " does not have profile information (Triggered internally at  ../torch/csrc/jit/codegen/cuda/graph_fuser.cpp:104.)\n",
      "  return forward_call(*input, **kwargs)\n",
      "/media/rich/OS/Users/Richard/Linux_stuff_on_OS/conda_envs/envs/rich_clust/lib/python3.9/site-packages/torch/nn/modules/module.py:1130: UserWarning: operator() profile_node %253 : int = prim::profile_ivalue(%out_dtype.1)\n",
      " does not have profile information (Triggered internally at  ../torch/csrc/jit/codegen/cuda/graph_fuser.cpp:104.)\n",
      "  return forward_call(*input, **kwargs)\n",
      "/media/rich/OS/Users/Richard/Linux_stuff_on_OS/conda_envs/envs/rich_clust/lib/python3.9/site-packages/torch/nn/modules/module.py:1130: UserWarning: operator() profile_node %253 : int = prim::profile_ivalue(%out_dtype.1)\n",
      " does not have profile information (Triggered internally at  ../torch/csrc/jit/codegen/cuda/graph_fuser.cpp:104.)\n",
      "  return forward_call(*input, **kwargs)\n",
      "/media/rich/OS/Users/Richard/Linux_stuff_on_OS/conda_envs/envs/rich_clust/lib/python3.9/site-packages/torch/nn/modules/module.py:1130: UserWarning: operator() profile_node %253 : int = prim::profile_ivalue(%out_dtype.1)\n",
      " does not have profile information (Triggered internally at  ../torch/csrc/jit/codegen/cuda/graph_fuser.cpp:104.)\n",
      "  return forward_call(*input, **kwargs)\n",
      "/media/rich/OS/Users/Richard/Linux_stuff_on_OS/conda_envs/envs/rich_clust/lib/python3.9/site-packages/torch/nn/modules/module.py:1130: UserWarning: operator() profile_node %253 : int = prim::profile_ivalue(%out_dtype.1)\n",
      " does not have profile information (Triggered internally at  ../torch/csrc/jit/codegen/cuda/graph_fuser.cpp:104.)\n",
      "  return forward_call(*input, **kwargs)\n",
      "/media/rich/OS/Users/Richard/Linux_stuff_on_OS/conda_envs/envs/rich_clust/lib/python3.9/site-packages/torch/nn/modules/module.py:1130: UserWarning: operator() profile_node %253 : int = prim::profile_ivalue(%out_dtype.1)\n",
      " does not have profile information (Triggered internally at  ../torch/csrc/jit/codegen/cuda/graph_fuser.cpp:104.)\n",
      "  return forward_call(*input, **kwargs)\n",
      "/media/rich/OS/Users/Richard/Linux_stuff_on_OS/conda_envs/envs/rich_clust/lib/python3.9/site-packages/torch/nn/modules/module.py:1130: UserWarning: operator() profile_node %253 : int = prim::profile_ivalue(%out_dtype.1)\n",
      " does not have profile information (Triggered internally at  ../torch/csrc/jit/codegen/cuda/graph_fuser.cpp:104.)\n",
      "  return forward_call(*input, **kwargs)\n",
      "/media/rich/OS/Users/Richard/Linux_stuff_on_OS/conda_envs/envs/rich_clust/lib/python3.9/site-packages/torch/nn/modules/module.py:1130: UserWarning: operator() profile_node %253 : int = prim::profile_ivalue(%out_dtype.1)\n",
      " does not have profile information (Triggered internally at  ../torch/csrc/jit/codegen/cuda/graph_fuser.cpp:104.)\n",
      "  return forward_call(*input, **kwargs)\n"
     ]
    },
    {
     "name": "stderr",
     "output_type": "stream",
     "text": [
      "/media/rich/OS/Users/Richard/Linux_stuff_on_OS/conda_envs/envs/rich_clust/lib/python3.9/site-packages/torch/nn/modules/module.py:1130: UserWarning: operator() profile_node %253 : int = prim::profile_ivalue(%out_dtype.1)\n",
      " does not have profile information (Triggered internally at  ../torch/csrc/jit/codegen/cuda/graph_fuser.cpp:104.)\n",
      "  return forward_call(*input, **kwargs)\n",
      "/media/rich/OS/Users/Richard/Linux_stuff_on_OS/conda_envs/envs/rich_clust/lib/python3.9/site-packages/torch/nn/modules/module.py:1130: UserWarning: operator() profile_node %253 : int = prim::profile_ivalue(%out_dtype.1)\n",
      " does not have profile information (Triggered internally at  ../torch/csrc/jit/codegen/cuda/graph_fuser.cpp:104.)\n",
      "  return forward_call(*input, **kwargs)\n",
      "/media/rich/OS/Users/Richard/Linux_stuff_on_OS/conda_envs/envs/rich_clust/lib/python3.9/site-packages/torch/nn/modules/module.py:1130: UserWarning: operator() profile_node %253 : int = prim::profile_ivalue(%out_dtype.1)\n",
      " does not have profile information (Triggered internally at  ../torch/csrc/jit/codegen/cuda/graph_fuser.cpp:104.)\n",
      "  return forward_call(*input, **kwargs)\n",
      "/media/rich/OS/Users/Richard/Linux_stuff_on_OS/conda_envs/envs/rich_clust/lib/python3.9/site-packages/torch/nn/modules/module.py:1130: UserWarning: operator() profile_node %253 : int = prim::profile_ivalue(%out_dtype.1)\n",
      " does not have profile information (Triggered internally at  ../torch/csrc/jit/codegen/cuda/graph_fuser.cpp:104.)\n",
      "  return forward_call(*input, **kwargs)\n",
      "/media/rich/OS/Users/Richard/Linux_stuff_on_OS/conda_envs/envs/rich_clust/lib/python3.9/site-packages/torch/nn/modules/module.py:1130: UserWarning: operator() profile_node %253 : int = prim::profile_ivalue(%out_dtype.1)\n",
      " does not have profile information (Triggered internally at  ../torch/csrc/jit/codegen/cuda/graph_fuser.cpp:104.)\n",
      "  return forward_call(*input, **kwargs)\n",
      "/media/rich/OS/Users/Richard/Linux_stuff_on_OS/conda_envs/envs/rich_clust/lib/python3.9/site-packages/torch/nn/modules/module.py:1130: UserWarning: operator() profile_node %253 : int = prim::profile_ivalue(%out_dtype.1)\n",
      " does not have profile information (Triggered internally at  ../torch/csrc/jit/codegen/cuda/graph_fuser.cpp:104.)\n",
      "  return forward_call(*input, **kwargs)\n",
      "/media/rich/OS/Users/Richard/Linux_stuff_on_OS/conda_envs/envs/rich_clust/lib/python3.9/site-packages/torch/nn/modules/module.py:1130: UserWarning: operator() profile_node %253 : int = prim::profile_ivalue(%out_dtype.1)\n",
      " does not have profile information (Triggered internally at  ../torch/csrc/jit/codegen/cuda/graph_fuser.cpp:104.)\n",
      "  return forward_call(*input, **kwargs)\n",
      "/media/rich/OS/Users/Richard/Linux_stuff_on_OS/conda_envs/envs/rich_clust/lib/python3.9/site-packages/torch/nn/modules/module.py:1130: UserWarning: operator() profile_node %253 : int = prim::profile_ivalue(%out_dtype.1)\n",
      " does not have profile information (Triggered internally at  ../torch/csrc/jit/codegen/cuda/graph_fuser.cpp:104.)\n",
      "  return forward_call(*input, **kwargs)\n",
      "/media/rich/OS/Users/Richard/Linux_stuff_on_OS/conda_envs/envs/rich_clust/lib/python3.9/site-packages/torch/nn/modules/module.py:1130: UserWarning: operator() profile_node %253 : int = prim::profile_ivalue(%out_dtype.1)\n",
      " does not have profile information (Triggered internally at  ../torch/csrc/jit/codegen/cuda/graph_fuser.cpp:104.)\n",
      "  return forward_call(*input, **kwargs)\n",
      "/media/rich/OS/Users/Richard/Linux_stuff_on_OS/conda_envs/envs/rich_clust/lib/python3.9/site-packages/torch/nn/modules/module.py:1130: UserWarning: operator() profile_node %253 : int = prim::profile_ivalue(%out_dtype.1)\n",
      " does not have profile information (Triggered internally at  ../torch/csrc/jit/codegen/cuda/graph_fuser.cpp:104.)\n",
      "  return forward_call(*input, **kwargs)\n",
      "/media/rich/OS/Users/Richard/Linux_stuff_on_OS/conda_envs/envs/rich_clust/lib/python3.9/site-packages/torch/nn/modules/module.py:1130: UserWarning: operator() profile_node %253 : int = prim::profile_ivalue(%out_dtype.1)\n",
      " does not have profile information (Triggered internally at  ../torch/csrc/jit/codegen/cuda/graph_fuser.cpp:104.)\n",
      "  return forward_call(*input, **kwargs)\n",
      "/media/rich/OS/Users/Richard/Linux_stuff_on_OS/conda_envs/envs/rich_clust/lib/python3.9/site-packages/torch/nn/modules/module.py:1130: UserWarning: operator() profile_node %253 : int = prim::profile_ivalue(%out_dtype.1)\n",
      " does not have profile information (Triggered internally at  ../torch/csrc/jit/codegen/cuda/graph_fuser.cpp:104.)\n",
      "  return forward_call(*input, **kwargs)\n",
      "/media/rich/OS/Users/Richard/Linux_stuff_on_OS/conda_envs/envs/rich_clust/lib/python3.9/site-packages/torch/nn/modules/module.py:1130: UserWarning: operator() profile_node %253 : int = prim::profile_ivalue(%out_dtype.1)\n",
      " does not have profile information (Triggered internally at  ../torch/csrc/jit/codegen/cuda/graph_fuser.cpp:104.)\n",
      "  return forward_call(*input, **kwargs)\n",
      "/media/rich/OS/Users/Richard/Linux_stuff_on_OS/conda_envs/envs/rich_clust/lib/python3.9/site-packages/torch/nn/modules/module.py:1130: UserWarning: operator() profile_node %253 : int = prim::profile_ivalue(%out_dtype.1)\n",
      " does not have profile information (Triggered internally at  ../torch/csrc/jit/codegen/cuda/graph_fuser.cpp:104.)\n",
      "  return forward_call(*input, **kwargs)\n",
      " 83%|████████████████████████████████▌      | 3862/4633 [01:26<00:15, 49.05it/s]"
     ]
    }
   ],
   "source": [
    "hash_dict_true = {\n",
    "    'params': ('params.json', '877e17df8fa511a03bc99cd507a54403'),\n",
    "    'model': ('model.py', '6ef5c29793ae16a64e43e8cab33d9ff4'),\n",
    "    'state_dict': ('ConvNext_tiny__1_0_unfrozen__simCLR.pth', 'a5fae4c9ea95f2c78b4690222b2928a5'),\n",
    "}\n",
    "\n",
    "roinet = ROInet.ROInet_embedder(\n",
    "    device='cuda:0',\n",
    "    dir_networkFiles='/home/rich/Downloads/ROInet',\n",
    "    download_from_gDrive='check_local_first',\n",
    "    gDriveID='1FCcPZUuOR7xG-hdO6Ei6mx8YnKysVsa8',\n",
    "    hash_dict_networkFiles=hash_dict_true,\n",
    "    verbose=True,\n",
    ")\n",
    "\n",
    "roinet.generate_dataloader(\n",
    "    ROI_images=data.ROI_images,\n",
    "    goal_size=250,\n",
    "    ptile_norm=90,\n",
    "    scale_norm=0.6,\n",
    "    pref_plot=False,\n",
    "    batchSize_dataloader=8,\n",
    "    pinMemory_dataloader=True,\n",
    "    numWorkers_dataloader=mp.cpu_count(),\n",
    "    persistentWorkers_dataloader=True,\n",
    "    prefetchFactor_dataloader=2,    \n",
    ")\n",
    "\n",
    "roinet.generate_latents();"
   ]
  },
  {
   "cell_type": "code",
   "execution_count": null,
   "id": "054ac61c",
   "metadata": {},
   "outputs": [],
   "source": [
    "gc.collect()\n",
    "torch.cuda.empty_cache()\n",
    "gc.collect()\n",
    "torch.cuda.empty_cache()"
   ]
  },
  {
   "cell_type": "markdown",
   "id": "a26152bd",
   "metadata": {},
   "source": [
    "## Scattering wavelet embedding distances"
   ]
  },
  {
   "cell_type": "code",
   "execution_count": null,
   "id": "7439bc4c",
   "metadata": {},
   "outputs": [],
   "source": [
    "swt = scatteringWaveletTransformer.SWT(\n",
    "    kwargs_Scattering2D={'J': 2, 'L': 8}, \n",
    "    image_shape=(36,36), \n",
    "    device='cuda:0'\n",
    ")\n",
    "\n",
    "swt.transform(ROI_images=np.concatenate(data.ROI_images, axis=0));"
   ]
  },
  {
   "cell_type": "markdown",
   "id": "bdbc0d2b",
   "metadata": {},
   "source": [
    "## Compute similarities"
   ]
  },
  {
   "cell_type": "code",
   "execution_count": null,
   "id": "3c486898",
   "metadata": {},
   "outputs": [],
   "source": [
    "sim = similarity_graph.ROI_graph(\n",
    "    device='cpu',\n",
    "    n_workers=-1,\n",
    "    spatialFootprint_maskPower=0.8,\n",
    "    frame_height=data.FOV_height,\n",
    "    frame_width=data.FOV_width,\n",
    "    block_height=50,\n",
    "    block_width=50,\n",
    "    overlapping_width_Multiplier=0.1,\n",
    "    algorithm_nearestNeigbors_spatialFootprints='brute',\n",
    "    n_neighbors_nearestNeighbors_spatialFootprints='full',\n",
    "    locality=1,\n",
    "    verbose=True,\n",
    ")"
   ]
  },
  {
   "cell_type": "code",
   "execution_count": null,
   "id": "f7667705",
   "metadata": {},
   "outputs": [],
   "source": [
    "sim.visualize_blocks()"
   ]
  },
  {
   "cell_type": "code",
   "execution_count": null,
   "id": "571b475d",
   "metadata": {
    "scrolled": false
   },
   "outputs": [],
   "source": [
    "sim.compute_similarity_blockwise(\n",
    "    spatialFootprints=blurrer.ROIs_blurred,\n",
    "    features_NN=roinet.latents,\n",
    "    features_SWT=swt.latents,\n",
    "    ROI_session_bool=data.sessionID_concat,\n",
    "    linkage_methods=['single', 'complete', 'ward', 'average'],\n",
    "    linkage_distances=math_functions.bounded_logspace(0.05, 2, 50),\n",
    "    min_cluster_size=2,\n",
    "    max_cluster_size=None,\n",
    "    batch_size_hashing=300,\n",
    ");\n",
    "\n",
    "sim.compute_cluster_similarity_graph(\n",
    "        cluster_similarity_reduction_intra='mean',\n",
    "        cluster_similarity_reduction_inter='max',\n",
    "        cluster_silhouette_reduction_intra='mean',\n",
    "        cluster_silhouette_reduction_inter='max',\n",
    "        n_workers=100,\n",
    ");\n",
    "\n",
    "sim.compute_cluster_scores(\n",
    "    power_clusterSize=2, \n",
    "    power_clusterSilhouette=1.5\n",
    ");"
   ]
  },
  {
   "cell_type": "code",
   "execution_count": null,
   "id": "80a5132b",
   "metadata": {},
   "outputs": [],
   "source": []
  },
  {
   "cell_type": "code",
   "execution_count": null,
   "id": "3b12cf0c",
   "metadata": {},
   "outputs": [],
   "source": [
    "fig, axs = plt.subplots(1,2, figsize=(10,5))\n",
    "axs[0].plot(sim.scores.cpu())\n",
    "# plt.ylim([0,1.1])\n",
    "axs[1].plot(sim.scores.cpu())\n",
    "axs[1].set_yscale('log')"
   ]
  },
  {
   "cell_type": "code",
   "execution_count": null,
   "id": "0c6fcb4e",
   "metadata": {},
   "outputs": [],
   "source": [
    "plt.figure()\n",
    "plt.hist(sim.scores.cpu(), 500)\n",
    "plt.yscale('log')\n",
    "plt.xscale('log')"
   ]
  },
  {
   "cell_type": "code",
   "execution_count": null,
   "id": "87dc22d6",
   "metadata": {},
   "outputs": [],
   "source": [
    "plt.figure()\n",
    "plt.scatter((np.array(sim.cluster_bool.sum(1)).squeeze()**2), w_raw, alpha=0.01)"
   ]
  },
  {
   "cell_type": "code",
   "execution_count": null,
   "id": "21b2530d",
   "metadata": {},
   "outputs": [],
   "source": []
  },
  {
   "cell_type": "code",
   "execution_count": null,
   "id": "d6f5886c",
   "metadata": {},
   "outputs": [],
   "source": []
  },
  {
   "cell_type": "code",
   "execution_count": null,
   "id": "e4f1e670",
   "metadata": {},
   "outputs": [],
   "source": [
    "clusterAssigner = cluster_assignment.Cluster_Assigner(\n",
    "    c=sim.c_sim,\n",
    "    h=sim.cluster_bool.T,\n",
    "    w=sim.scores,\n",
    "    device=DEVICE,\n",
    "    m_init=(torch.ones(c.shape[0])*-5 + torch.rand(c.shape[0])*1).type(torch.float32),\n",
    "    optimizer_partial=functools.partial(torch.optim.Adam, lr=1e-1, betas=(0.9, 0.900)),\n",
    "    scheduler_partial=functools.partial(torch.optim.lr_scheduler.CyclicLR, base_lr=1e-3, max_lr=3e0, step_size_up=250, cycle_momentum=False, verbose=False),\n",
    "    dmCEL_temp=1,\n",
    "    dmCEL_sigSlope=2,\n",
    "    dmCEL_sigCenter=0.5,\n",
    "    dmCEL_penalty=1e0,\n",
    "    sampleWeight_softplusKwargs={'beta': 500, 'threshold': 50},\n",
    "    sampleWeight_penalty=1e2,\n",
    "    fracWeighted_goalFrac=1.0,\n",
    "    fracWeighted_sigSlope=2,\n",
    "    fracWeighted_sigCenter=0.5,\n",
    "    fracWeight_penalty=1e2,\n",
    "    maskL1_penalty=2e-5,\n",
    "    tol_convergence=1e-9,\n",
    "    window_convergence=50,\n",
    "    freqCheck_convergence=50,\n",
    "    verbose=True,\n",
    ")"
   ]
  },
  {
   "cell_type": "code",
   "execution_count": null,
   "id": "e180c153",
   "metadata": {
    "scrolled": true
   },
   "outputs": [],
   "source": [
    "clusterAssigner.fit(\n",
    "    min_iter=1e3,\n",
    "    max_iter=2e3,\n",
    "    verbose=True, \n",
    "    verbose_interval=10\n",
    ")"
   ]
  },
  {
   "cell_type": "code",
   "execution_count": null,
   "id": "e68a707e",
   "metadata": {
    "scrolled": true
   },
   "outputs": [],
   "source": [
    "clusterAssigner.plot_loss()"
   ]
  },
  {
   "cell_type": "code",
   "execution_count": null,
   "id": "33964cb6",
   "metadata": {
    "scrolled": true
   },
   "outputs": [],
   "source": [
    "gc.collect()\n",
    "\n",
    "torch.cuda.empty_cache()\n",
    "\n",
    "gc.collect()\n",
    "\n",
    "torch.cuda.empty_cache()"
   ]
  },
  {
   "cell_type": "code",
   "execution_count": null,
   "id": "53f86f9d",
   "metadata": {},
   "outputs": [],
   "source": [
    "clusterAssigner.plot_clusterWeights()\n",
    "\n",
    "clusterAssigner.plot_sampleWeights()\n",
    "\n",
    "clusterAssigner.plot_clusterScores(bins=200)\n",
    "plt.xscale('log')\n",
    "plt.yscale('log')"
   ]
  },
  {
   "cell_type": "code",
   "execution_count": null,
   "id": "be303ee1",
   "metadata": {},
   "outputs": [],
   "source": [
    "m_threshold=0.9\n",
    "\n",
    "preds, confidence, scores_samples, m_bool = clusterAssigner.predict(m_threshold=m_threshold)\n",
    "\n",
    "fig, axs = clusterAssigner.plot_labelCounts()\n",
    "axs[0].set_ylim([0,20])\n",
    "\n",
    "print(f'Number of clusters: {m_bool.sum()}')"
   ]
  },
  {
   "cell_type": "code",
   "execution_count": null,
   "id": "28425e7b",
   "metadata": {},
   "outputs": [],
   "source": [
    "FOV_clusters = visualization.compute_colored_FOV(\n",
    "    spatialFootprints=aligner.ROIs_aligned,\n",
    "    FOV_height=data.FOV_height,\n",
    "    FOV_width=data.FOV_width,\n",
    "    preds=clusterAssigner.preds,\n",
    "    confidence=clusterAssigner.confidence,\n",
    "    threshold_confidence = 0.5\n",
    ")\n",
    "\n",
    "visualization.display_toggle_image_stack(FOV_clusters)"
   ]
  },
  {
   "cell_type": "code",
   "execution_count": null,
   "id": "f95320a0",
   "metadata": {},
   "outputs": [],
   "source": []
  },
  {
   "cell_type": "raw",
   "id": "a39bd646",
   "metadata": {},
   "source": [
    "preds_by_session = [preds[idx].numpy() for idx in data.sessionID_concat.T]\n",
    "\n",
    "ROIs = {\n",
    "    \"ROIs_aligned\": aligner.ROIs_aligned,\n",
    "    \"ROIs_raw\": data.spatialFootprints,\n",
    "    \"frame_height\": data.FOV_height,\n",
    "    \"frame_width\": data.FOV_width,\n",
    "    \"idx_roi_session\": [np.where(idx)[0] for idx in data.sessionID_concat.T]\n",
    "}\n",
    "\n",
    "pickle_helpers.simple_save(\n",
    "    {\n",
    "        \"UCIDs\": list(clusterAssigner.preds.numpy().astype(np.int64)),\n",
    "        \"UCIDs_bySession\": preds_bySession,\n",
    "        \"ROIs\": ROIs,\n",
    "    },\n",
    "    filename=dir_save / (name_save + '.rClust' '.pkl'),\n",
    "#     filename='/media/rich/bigSSD/analysis_data/mouse 2_6/multiday_alignment/UCIDs.pkl'\n",
    ")"
   ]
  },
  {
   "cell_type": "code",
   "execution_count": null,
   "id": "781819d1",
   "metadata": {},
   "outputs": [],
   "source": []
  },
  {
   "cell_type": "raw",
   "id": "0da266a1",
   "metadata": {},
   "source": [
    "name_save = os.path.split(dir_allOuterFolders)[-1]\n",
    "\n",
    "dir_save = Path(r'/media/rich/bigSSD/analysis_data/ROI_tracking/Valerio/4th_email/results/').resolve()"
   ]
  },
  {
   "cell_type": "code",
   "execution_count": null,
   "id": "a30e5533",
   "metadata": {},
   "outputs": [],
   "source": []
  },
  {
   "cell_type": "raw",
   "id": "d9092374",
   "metadata": {},
   "source": [
    "ROIMatch = scipy.io.loadmat('/media/rich/bigSSD/other lab data/Harnett_lab/ROI_Tracking/Vincent_Valerio/20220117_email/ROIMatch.mat')['RoiMatch4Fissa'] -1"
   ]
  },
  {
   "cell_type": "raw",
   "id": "53240482",
   "metadata": {},
   "source": [
    "UCIDs_bySession_Valerio = [np.ones_like(UCIDs_bySession[ii], dtype=np.int64)*-1 for ii in range(len(UCIDs_bySession))]\n",
    "\n",
    "for ii in range(ROIMatch.shape[1]):\n",
    "    UCIDs_bySession_Valerio[ii][ROIMatch[:,ii]] = np.arange(ROIMatch.shape[0])"
   ]
  },
  {
   "cell_type": "raw",
   "id": "8257e4e0",
   "metadata": {},
   "source": [
    "UCIDs_Valerio = np.concatenate(UCIDs_bySession_Valerio)"
   ]
  },
  {
   "cell_type": "code",
   "execution_count": null,
   "id": "d22c0520",
   "metadata": {},
   "outputs": [],
   "source": []
  },
  {
   "cell_type": "code",
   "execution_count": null,
   "id": "f2cb092b",
   "metadata": {},
   "outputs": [],
   "source": []
  },
  {
   "cell_type": "code",
   "execution_count": null,
   "id": "a4203725",
   "metadata": {},
   "outputs": [],
   "source": []
  },
  {
   "cell_type": "code",
   "execution_count": null,
   "id": "c0646429",
   "metadata": {},
   "outputs": [],
   "source": []
  },
  {
   "cell_type": "code",
   "execution_count": null,
   "id": "e86a63c5",
   "metadata": {},
   "outputs": [],
   "source": []
  },
  {
   "cell_type": "code",
   "execution_count": null,
   "id": "b15f3c5e",
   "metadata": {},
   "outputs": [],
   "source": []
  }
 ],
 "metadata": {
  "kernelspec": {
   "display_name": "Python 3 (ipykernel)",
   "language": "python",
   "name": "python3"
  },
  "language_info": {
   "codemirror_mode": {
    "name": "ipython",
    "version": 3
   },
   "file_extension": ".py",
   "mimetype": "text/x-python",
   "name": "python",
   "nbconvert_exporter": "python",
   "pygments_lexer": "ipython3",
   "version": "3.9.12"
  }
 },
 "nbformat": 4,
 "nbformat_minor": 5
}
